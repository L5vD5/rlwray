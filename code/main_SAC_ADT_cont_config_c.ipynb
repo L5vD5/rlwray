{
 "cells": [
  {
   "cell_type": "markdown",
   "metadata": {},
   "source": [
    "# SAC with CustomADTEnvContinuous"
   ]
  },
  {
   "cell_type": "code",
   "execution_count": 1,
   "metadata": {},
   "outputs": [
    {
     "name": "stdout",
     "output_type": "stream",
     "text": [
      "Packaged loaded. TF version is [1.15.0].\n"
     ]
    }
   ],
   "source": [
    "import datetime,os\n",
    "import tensorflow as tf\n",
    "from episci.agents.utils.constants import Agents\n",
    "from sac_adt_train import train\n",
    "print (\"Packaged loaded. TF version is [%s].\"%(tf.__version__))"
   ]
  },
  {
   "cell_type": "markdown",
   "metadata": {},
   "source": [
    "### Hyperparameters"
   ]
  },
  {
   "cell_type": "code",
   "execution_count": 2,
   "metadata": {},
   "outputs": [],
   "source": [
    "expname = 'sac_adt_cont_c'\n",
    "# Ray\n",
    "n_cpu = 21\n",
    "n_workers = 21\n",
    "# Rollouts\n",
    "total_steps,burnin_steps = 50000,5\n",
    "evaluate_every,print_every = 50,5\n",
    "action_length,action_length_eval = 5,5 # 50/5=10HZ\n",
    "ep_len_rollout = 10*150 # 150sec rollout\n",
    "hdims,actv = [128,128],tf.nn.relu\n",
    "red_list_train = {\n",
    "    Agents.SPOT_4G: 0.15,\n",
    "    Agents.SPOT_5G: 0.30,\n",
    "    Agents.SPOT_RANDOM: 0.45,\n",
    "    Agents.EXPERT_SYSTEM_TRIAL_2: 0.6,\n",
    "    Agents.EXPERT_SYSTEM_TRIAL_3_SCRIMMAGE_4: 0.75,\n",
    "    Agents.EXPERT_SYSTEM: 1.0\n",
    "    }\n",
    "red_list_eval = [\n",
    "    Agents.ZOMBIE, \n",
    "    Agents.ROSIE, \n",
    "    Agents.BUD, \n",
    "    Agents.BUD_FSM, \n",
    "    Agents.EXPERT_SYSTEM_TRIAL_2, \n",
    "    Agents.EXPERT_SYSTEM_TRIAL_3_SCRIMMAGE_4, \n",
    "    Agents.EXPERT_SYSTEM\n",
    "    ]*3\n",
    "num_eval,max_ep_len_eval = len(red_list_eval),15e3 # evaluation \n",
    "# Learning hyp\n",
    "batch_size,update_count = 2**14,500 # batchsize / number of updates\n",
    "lr = 1e-5\n",
    "epsilon = 1e-2\n",
    "# SAC\n",
    "gamma = 0.99 # discount 0.99\n",
    "alpha_q,alpha_pi = 0.01,0.01\n",
    "polyak = 0.995 # 0.995\n",
    "# Buffer\n",
    "buffer_sz_long,buffer_sz_short = 1e5,1e4\n",
    "# Temperature % epsilon greediness \n",
    "temp_min,temp_max = 1.0,1.0\n",
    "eps_greedy = 0.1\n",
    "# Logger path\n",
    "txt_path = '../log/%s/log_%s.txt'%(\n",
    "    expname,datetime.datetime.now().strftime(\"%b-%d-%Y-%H:%M:%S\"))\n",
    "# Restore\n",
    "npz_path_restore = '' "
   ]
  },
  {
   "cell_type": "markdown",
   "metadata": {},
   "source": [
    "### Train"
   ]
  },
  {
   "cell_type": "code",
   "execution_count": 3,
   "metadata": {},
   "outputs": [],
   "source": [
    "args = {'expname':expname,'n_cpu':n_cpu,'n_workers':n_workers,\n",
    "        'total_steps':total_steps,'burnin_steps':burnin_steps,\n",
    "        'evaluate_every':evaluate_every,'print_every':print_every,\n",
    "        'action_length':action_length,'action_length_eval':action_length_eval,\n",
    "        'ep_len_rollout':ep_len_rollout,\n",
    "        'hdims':hdims,'actv':actv,\n",
    "        'red_list_train':red_list_train,\n",
    "        'red_list_eval':red_list_eval,'num_eval':num_eval,'max_ep_len_eval':max_ep_len_eval,\n",
    "        'batch_size':batch_size,'update_count':update_count,\n",
    "        'lr':lr,'epsilon':epsilon,'gamma':gamma,\n",
    "        'alpha_q':alpha_q,'alpha_pi':alpha_pi,'polyak':polyak,\n",
    "        'buffer_sz_long':buffer_sz_long,'buffer_sz_short':buffer_sz_short,\n",
    "        'temp_min':temp_min,'temp_max':temp_max,'eps_greedy':eps_greedy,\n",
    "        'txt_path':txt_path,'npz_path_restore':npz_path_restore}"
   ]
  },
  {
   "cell_type": "code",
   "execution_count": null,
   "metadata": {
    "scrolled": true
   },
   "outputs": [
    {
     "name": "stdout",
     "output_type": "stream",
     "text": [
      "../log/sac_adt_cont_c/log_Jul-18-2020-01:01:04.txt\n",
      "[../log/sac_adt_cont_c/log_Jul-18-2020-01:01:04.txt] created.\n"
     ]
    },
    {
     "name": "stderr",
     "output_type": "stream",
     "text": [
      "2020-07-18 01:01:06,005\tINFO resource_spec.py:212 -- Starting Ray with 129.44 GiB memory available for workers and up to 59.48 GiB for objects. You can adjust these settings with ray.init(memory=<bytes>, object_store_memory=<bytes>).\n",
      "2020-07-18 01:01:06,121\tWARNING services.py:923 -- Redis failed to start, retrying now.\n",
      "2020-07-18 01:01:06,351\tWARNING services.py:923 -- Redis failed to start, retrying now.\n",
      "2020-07-18 01:01:06,563\tINFO services.py:1165 -- View the Ray dashboard at \u001b[1m\u001b[32mlocalhost:8267\u001b[39m\u001b[22m\n"
     ]
    },
    {
     "name": "stdout",
     "output_type": "stream",
     "text": [
      "RAY initialized with [21] cpus and [21] workers.\n",
      "\u001b[2m\u001b[36m(pid=28562)\u001b[0m \n",
      "\u001b[2m\u001b[36m(pid=28562)\u001b[0m \n",
      "\u001b[2m\u001b[36m(pid=28562)\u001b[0m      JSBSim Flight Dynamics Model v1.1.0.dev1 Jul 11 2020 05:35:14\n",
      "\u001b[2m\u001b[36m(pid=28550)\u001b[0m \n",
      "\u001b[2m\u001b[36m(pid=28550)\u001b[0m \n",
      "\u001b[2m\u001b[36m(pid=28550)\u001b[0m      JSBSim Flight Dynamics Model v1.1.0.dev1 Jul 11 2020 05:35:14\n",
      "\u001b[2m\u001b[36m(pid=28561)\u001b[0m \n",
      "\u001b[2m\u001b[36m(pid=28561)\u001b[0m \n",
      "\u001b[2m\u001b[36m(pid=28561)\u001b[0m      JSBSim Flight Dynamics Model v1.1.0.dev1 Jul 11 2020 05:35:14\n",
      "\u001b[2m\u001b[36m(pid=28557)\u001b[0m \n",
      "\u001b[2m\u001b[36m(pid=28557)\u001b[0m \n",
      "\u001b[2m\u001b[36m(pid=28557)\u001b[0m      JSBSim Flight Dynamics Model v1.1.0.dev1 Jul 11 2020 05:35:14\n",
      "\u001b[2m\u001b[36m(pid=28572)\u001b[0m \n",
      "\u001b[2m\u001b[36m(pid=28572)\u001b[0m \n",
      "\u001b[2m\u001b[36m(pid=28572)\u001b[0m      JSBSim Flight Dynamics Model v1.1.0.dev1 Jul 11 2020 05:35:14\n",
      "\u001b[2m\u001b[36m(pid=28570)\u001b[0m \n",
      "\u001b[2m\u001b[36m(pid=28570)\u001b[0m \n",
      "\u001b[2m\u001b[36m(pid=28570)\u001b[0m      JSBSim Flight Dynamics Model v1.1.0.dev1 Jul 11 2020 05:35:14\n",
      "\u001b[2m\u001b[36m(pid=28574)\u001b[0m \n",
      "\u001b[2m\u001b[36m(pid=28574)\u001b[0m \n",
      "\u001b[2m\u001b[36m(pid=28574)\u001b[0m      JSBSim Flight Dynamics Model v1.1.0.dev1 Jul 11 2020 05:35:14\n",
      "\u001b[2m\u001b[36m(pid=28575)\u001b[0m \n",
      "\u001b[2m\u001b[36m(pid=28575)\u001b[0m \n",
      "\u001b[2m\u001b[36m(pid=28575)\u001b[0m      JSBSim Flight Dynamics Model v1.1.0.dev1 Jul 11 2020 05:35:14\n",
      "\u001b[2m\u001b[36m(pid=28568)\u001b[0m \n",
      "\u001b[2m\u001b[36m(pid=28568)\u001b[0m \n",
      "\u001b[2m\u001b[36m(pid=28568)\u001b[0m      JSBSim Flight Dynamics Model v1.1.0.dev1 Jul 11 2020 05:35:14\n",
      "\u001b[2m\u001b[36m(pid=28565)\u001b[0m \n",
      "\u001b[2m\u001b[36m(pid=28565)\u001b[0m \n",
      "\u001b[2m\u001b[36m(pid=28565)\u001b[0m      JSBSim Flight Dynamics Model v1.1.0.dev1 Jul 11 2020 05:35:14\n",
      "\u001b[2m\u001b[36m(pid=28567)\u001b[0m \n",
      "\u001b[2m\u001b[36m(pid=28567)\u001b[0m \n",
      "\u001b[2m\u001b[36m(pid=28567)\u001b[0m      JSBSim Flight Dynamics Model v1.1.0.dev1 Jul 11 2020 05:35:14\n",
      "\u001b[2m\u001b[36m(pid=28551)\u001b[0m \n",
      "\u001b[2m\u001b[36m(pid=28551)\u001b[0m \n",
      "\u001b[2m\u001b[36m(pid=28551)\u001b[0m      JSBSim Flight Dynamics Model v1.1.0.dev1 Jul 11 2020 05:35:14\n",
      "\u001b[2m\u001b[36m(pid=28566)\u001b[0m \n",
      "\u001b[2m\u001b[36m(pid=28566)\u001b[0m \n",
      "\u001b[2m\u001b[36m(pid=28566)\u001b[0m      JSBSim Flight Dynamics Model v1.1.0.dev1 Jul 11 2020 05:35:14\n",
      "\u001b[2m\u001b[36m(pid=28564)\u001b[0m \n",
      "\u001b[2m\u001b[36m(pid=28564)\u001b[0m \n",
      "\u001b[2m\u001b[36m(pid=28564)\u001b[0m      JSBSim Flight Dynamics Model v1.1.0.dev1 Jul 11 2020 05:35:14\n",
      "\u001b[2m\u001b[36m(pid=28558)\u001b[0m \n",
      "\u001b[2m\u001b[36m(pid=28558)\u001b[0m \n",
      "\u001b[2m\u001b[36m(pid=28558)\u001b[0m      JSBSim Flight Dynamics Model v1.1.0.dev1 Jul 11 2020 05:35:14\n",
      "\u001b[2m\u001b[36m(pid=28569)\u001b[0m \n",
      "\u001b[2m\u001b[36m(pid=28569)\u001b[0m \n",
      "\u001b[2m\u001b[36m(pid=28569)\u001b[0m      JSBSim Flight Dynamics Model v1.1.0.dev1 Jul 11 2020 05:35:14\n",
      "\u001b[2m\u001b[36m(pid=28563)\u001b[0m \n",
      "\u001b[2m\u001b[36m(pid=28563)\u001b[0m \n",
      "\u001b[2m\u001b[36m(pid=28563)\u001b[0m      JSBSim Flight Dynamics Model v1.1.0.dev1 Jul 11 2020 05:35:14\n",
      "\u001b[2m\u001b[36m(pid=28560)\u001b[0m \n",
      "\u001b[2m\u001b[36m(pid=28560)\u001b[0m \n",
      "\u001b[2m\u001b[36m(pid=28560)\u001b[0m      JSBSim Flight Dynamics Model v1.1.0.dev1 Jul 11 2020 05:35:14\n",
      "\u001b[2m\u001b[36m(pid=28559)\u001b[0m \n",
      "\u001b[2m\u001b[36m(pid=28559)\u001b[0m \n",
      "\u001b[2m\u001b[36m(pid=28559)\u001b[0m      JSBSim Flight Dynamics Model v1.1.0.dev1 Jul 11 2020 05:35:14\n",
      "\u001b[2m\u001b[36m(pid=28571)\u001b[0m \n",
      "\u001b[2m\u001b[36m(pid=28571)\u001b[0m \n",
      "\u001b[2m\u001b[36m(pid=28571)\u001b[0m      JSBSim Flight Dynamics Model v1.1.0.dev1 Jul 11 2020 05:35:14\n",
      "\u001b[2m\u001b[36m(pid=28573)\u001b[0m \n",
      "\u001b[2m\u001b[36m(pid=28573)\u001b[0m \n",
      "\u001b[2m\u001b[36m(pid=28573)\u001b[0m      JSBSim Flight Dynamics Model v1.1.0.dev1 Jul 11 2020 05:35:14\n",
      "\u001b[2m\u001b[36m(pid=28562)\u001b[0m Ray Worker [4] Ready.\n",
      "\u001b[2m\u001b[36m(pid=28550)\u001b[0m Ray Worker [8] Ready.\n",
      "\u001b[2m\u001b[36m(pid=28561)\u001b[0m Ray Worker [1] Ready.\n",
      "\u001b[2m\u001b[36m(pid=28572)\u001b[0m Ray Worker [7] Ready.\n",
      "\u001b[2m\u001b[36m(pid=28557)\u001b[0m Ray Worker [2] Ready.\n",
      "\u001b[2m\u001b[36m(pid=28558)\u001b[0m Ray Worker [0] Ready.\n",
      "\u001b[2m\u001b[36m(pid=28574)\u001b[0m Ray Worker [11] Ready.\n",
      "\u001b[2m\u001b[36m(pid=28569)\u001b[0m Ray Worker [20] Ready.\n",
      "\u001b[2m\u001b[36m(pid=28551)\u001b[0m Ray Worker [17] Ready.\n",
      "\u001b[2m\u001b[36m(pid=28575)\u001b[0m Ray Worker [6] Ready.\n",
      "\u001b[2m\u001b[36m(pid=28568)\u001b[0m Ray Worker [13] Ready.\n",
      "\u001b[2m\u001b[36m(pid=28565)\u001b[0m Ray Worker [9] Ready.\n",
      "\u001b[2m\u001b[36m(pid=28571)\u001b[0m Ray Worker [14] Ready.\n",
      "\u001b[2m\u001b[36m(pid=28563)\u001b[0m Ray Worker [3] Ready.\n",
      "\u001b[2m\u001b[36m(pid=28567)\u001b[0m Ray Worker [15] Ready.\n",
      "\u001b[2m\u001b[36m(pid=28559)\u001b[0m Ray Worker [10] Ready.\n",
      "\u001b[2m\u001b[36m(pid=28566)\u001b[0m Ray Worker [19] Ready.\n",
      "\u001b[2m\u001b[36m(pid=28564)\u001b[0m Ray Worker [16] Ready.\n",
      "\u001b[2m\u001b[36m(pid=28570)\u001b[0m Ray Worker [12] Ready.\n",
      "\u001b[2m\u001b[36m(pid=28560)\u001b[0m Ray Worker [18] Ready.\n",
      "\u001b[2m\u001b[36m(pid=28573)\u001b[0m Ray Worker [5] Ready.\n"
     ]
    }
   ],
   "source": [
    "train(**args)"
   ]
  },
  {
   "cell_type": "code",
   "execution_count": null,
   "metadata": {},
   "outputs": [],
   "source": []
  }
 ],
 "metadata": {
  "kernelspec": {
   "display_name": "Python 3",
   "language": "python",
   "name": "python3"
  },
  "language_info": {
   "codemirror_mode": {
    "name": "ipython",
    "version": 3
   },
   "file_extension": ".py",
   "mimetype": "text/x-python",
   "name": "python",
   "nbconvert_exporter": "python",
   "pygments_lexer": "ipython3",
   "version": "3.6.9"
  }
 },
 "nbformat": 4,
 "nbformat_minor": 4
}
