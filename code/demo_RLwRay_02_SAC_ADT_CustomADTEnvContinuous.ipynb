{
 "cells": [
  {
   "cell_type": "markdown",
   "metadata": {},
   "source": [
    "# SAC with CustomADTEnvContinuous"
   ]
  },
  {
   "cell_type": "code",
   "execution_count": 1,
   "metadata": {},
   "outputs": [
    {
     "name": "stdout",
     "output_type": "stream",
     "text": [
      "Packaged loaded. TF version is [1.15.0].\n"
     ]
    }
   ],
   "source": [
    "import datetime,gym,time,os,psutil,ray\n",
    "import numpy as np\n",
    "import tensorflow as tf\n",
    "from util import gpu_sess,suppress_tf_warning,tic,toc\n",
    "from sac import ReplayBuffer,create_sac_model,create_sac_graph,\\\n",
    "    save_sac_model_and_buffers,restore_sac_model_and_buffers\n",
    "np.set_printoptions(precision=2)\n",
    "suppress_tf_warning() # suppress warning \n",
    "gym.logger.set_level(40) # gym logger \n",
    "\n",
    "from episci.environment_wrappers.tactical_action_adt_env_continuous import CustomADTEnvContinuous\n",
    "from episci.agents.utils.constants import Agents, RewardType\n",
    "print (\"Packaged loaded. TF version is [%s].\"%(tf.__version__))"
   ]
  },
  {
   "cell_type": "markdown",
   "metadata": {},
   "source": [
    "### Rollout Worker"
   ]
  },
  {
   "cell_type": "code",
   "execution_count": 2,
   "metadata": {},
   "outputs": [],
   "source": [
    "action_length = 5\n",
    "def get_env():\n",
    "    from episci.environment_wrappers.tactical_action_adt_env_continuous import CustomADTEnvContinuous\n",
    "    from episci.agents.utils.constants import Agents, RewardType\n",
    "    \n",
    "    red_distribution = {\n",
    "        Agents.SPOT_4G: 0.15,\n",
    "        Agents.SPOT_5G: 0.30,\n",
    "        Agents.SPOT_RANDOM: 0.45,\n",
    "        Agents.EXPERT_SYSTEM_TRIAL_2: 0.6,\n",
    "        Agents.EXPERT_SYSTEM_TRIAL_3_SCRIMMAGE_4: 0.75,\n",
    "        Agents.EXPERT_SYSTEM: 1.0\n",
    "    }\n",
    "    env_config = {\n",
    "        \"red_distribution\": red_distribution,\n",
    "        \"reward_type\": RewardType.SHAPED\n",
    "    }\n",
    "    return CustomADTEnvContinuous(env_config,action_length=action_length)\n",
    "\n",
    "def get_eval_env():\n",
    "    # from episci.environment_wrappers.tactical_action_adt_env_continuous import CustomADTEnvContinuous\n",
    "    # from episci.agents.utils.constants import Agents, RewardType\n",
    "    red_distribution = {\n",
    "        Agents.SPOT_4G: 0.15,\n",
    "        Agents.SPOT_5G: 0.30,\n",
    "        Agents.SPOT_RANDOM: 0.45,\n",
    "        Agents.EXPERT_SYSTEM_TRIAL_2: 0.6,\n",
    "        Agents.EXPERT_SYSTEM_TRIAL_3_SCRIMMAGE_4: 0.75,\n",
    "        Agents.EXPERT_SYSTEM: 1.0\n",
    "    }\n",
    "    env_config = {\n",
    "        \"red_distribution\": red_distribution,\n",
    "        \"reward_type\": RewardType.SHAPED\n",
    "    }\n",
    "    return CustomADTEnvContinuous(env_config,action_length=action_length)\n"
   ]
  },
  {
   "cell_type": "code",
   "execution_count": 3,
   "metadata": {},
   "outputs": [
    {
     "name": "stdout",
     "output_type": "stream",
     "text": [
      "Rollout worker classes (with and without RAY) ready.\n"
     ]
    }
   ],
   "source": [
    "class RolloutWorkerClass(object):\n",
    "    \"\"\"\n",
    "    Worker without RAY (for update purposes)\n",
    "    \"\"\"\n",
    "    def __init__(self,hdims=[256,256],actv=tf.nn.relu,\n",
    "                 lr=1e-3,gamma=0.99,alpha_q=0.1,alpha_pi=0.1,polyak=0.995,epsilon=1e-2,\n",
    "                 seed=1):\n",
    "        self.seed = seed\n",
    "        # Each worker should maintain its own environment\n",
    "        import gym\n",
    "        from util import suppress_tf_warning\n",
    "        suppress_tf_warning() # suppress TF warnings\n",
    "        gym.logger.set_level(40) \n",
    "        self.env = get_eval_env()\n",
    "        odim,adim = self.env.observation_space.shape[0],self.env.action_space.shape[0]\n",
    "        self.odim = odim\n",
    "        self.adim = adim\n",
    "        _ = self.env.reset()\n",
    "        \n",
    "        # Create SAC model and computational graph \n",
    "        self.model,self.sess = create_sac_model(\n",
    "            odim=self.odim,adim=self.adim,hdims=hdims,actv=actv)\n",
    "        self.step_ops,self.target_init = \\\n",
    "            create_sac_graph(self.model,lr=lr,gamma=gamma,alpha_q=alpha_q,alpha_pi=alpha_pi,\n",
    "                             polyak=polyak,epsilon=epsilon)\n",
    "        \n",
    "        # Initialize model \n",
    "        tf.set_random_seed(self.seed)\n",
    "        np.random.seed(self.seed)\n",
    "        self.sess.run(tf.global_variables_initializer())\n",
    "        self.sess.run(self.target_init)\n",
    "    \n",
    "    def get_action(self,o,deterministic=False):\n",
    "        act_op = self.model['mu'] if deterministic else self.model['pi']\n",
    "        return self.sess.run(act_op, feed_dict={self.model['o_ph']:o.reshape(1,-1)})[0]\n",
    "\n",
    "    def get_weights(self):\n",
    "        \"\"\"\n",
    "        Get weights\n",
    "        \"\"\"\n",
    "        weight_vals = self.sess.run(self.model['main_vars'])\n",
    "        return weight_vals\n",
    "    \n",
    "@ray.remote\n",
    "class RayRolloutWorkerClass(object):\n",
    "    \"\"\"\n",
    "    Rollout Worker with RAY\n",
    "    \"\"\"\n",
    "    def __init__(self,worker_id=0,hdims=[256,256],actv=tf.nn.relu,\n",
    "                 ep_len_rollout=1000):\n",
    "        # Parse\n",
    "        self.worker_id = worker_id\n",
    "        self.ep_len_rollout = ep_len_rollout\n",
    "        # Each worker should maintain its own environment\n",
    "        import gym\n",
    "        from util import suppress_tf_warning\n",
    "        suppress_tf_warning() # suppress TF warnings\n",
    "        gym.logger.set_level(40) \n",
    "        self.env = get_env()\n",
    "        odim,adim = self.env.observation_space.shape[0],self.env.action_space.shape[0]\n",
    "        self.odim = odim\n",
    "        self.adim = adim\n",
    "        _ = self.env.reset()\n",
    "        \n",
    "        # Replay buffers to pass\n",
    "        self.o_buffer = np.zeros((self.ep_len_rollout,self.odim))\n",
    "        self.a_buffer = np.zeros((self.ep_len_rollout,self.adim))\n",
    "        self.r_buffer = np.zeros((self.ep_len_rollout))\n",
    "        self.o2_buffer = np.zeros((self.ep_len_rollout,self.odim))\n",
    "        self.d_buffer = np.zeros((self.ep_len_rollout))\n",
    "        \n",
    "        # Create SAC model\n",
    "        self.model,self.sess = create_sac_model(\n",
    "            odim=self.odim,adim=self.adim,hdims=hdims,actv=actv)\n",
    "        self.sess.run(tf.global_variables_initializer())\n",
    "        print (\"Ray Worker [%d] Ready.\"%(self.worker_id))\n",
    "        \n",
    "        # Flag to initialize assign operations for 'set_weights()'\n",
    "        self.FIRST_SET_FLAG = True\n",
    "        \n",
    "        # Flag to initialize rollout\n",
    "        self.FIRST_ROLLOUT_FLAG = True\n",
    "        \n",
    "    def get_action(self,o,deterministic=False):\n",
    "        act_op = self.model['mu'] if deterministic else self.model['pi']\n",
    "        return self.sess.run(act_op, feed_dict={self.model['o_ph']:o.reshape(1,-1)})[0]\n",
    "    \n",
    "    def set_weights(self,weight_vals):\n",
    "        \"\"\"\n",
    "        Set weights without memory leakage\n",
    "        \"\"\"\n",
    "        if self.FIRST_SET_FLAG:\n",
    "            self.FIRST_SET_FLAG = False\n",
    "            self.assign_placeholders = []\n",
    "            self.assign_ops = []\n",
    "            for w_idx,weight_tf_var in enumerate(self.model['main_vars']):\n",
    "                a = weight_tf_var\n",
    "                assign_placeholder = tf.placeholder(a.dtype, shape=a.get_shape())\n",
    "                assign_op = a.assign(assign_placeholder)\n",
    "                self.assign_placeholders.append(assign_placeholder)\n",
    "                self.assign_ops.append(assign_op)\n",
    "        for w_idx,weight_tf_var in enumerate(self.model['main_vars']):\n",
    "            # Memory-leakage-free assign (hopefully)\n",
    "            self.sess.run(self.assign_ops[w_idx],\n",
    "                          {self.assign_placeholders[w_idx]:weight_vals[w_idx]})\n",
    "            \n",
    "    def rollout(self):\n",
    "        \"\"\"\n",
    "        Rollout\n",
    "        \"\"\"\n",
    "        if self.FIRST_ROLLOUT_FLAG:\n",
    "            self.FIRST_ROLLOUT_FLAG = False\n",
    "            self.o = self.env.reset() # reset environment\n",
    "        # Loop\n",
    "        r_sum = 0\n",
    "        for t in range(ep_len_rollout):\n",
    "            self.a = self.get_action(self.o,deterministic=False) \n",
    "            self.o2,self.r,self.d,_ = self.env.step(self.a)\n",
    "            r_sum += self.r\n",
    "            # Append\n",
    "            self.o_buffer[t,:] = self.o\n",
    "            self.a_buffer[t,:] = self.a\n",
    "            self.r_buffer[t] = self.r\n",
    "            self.o2_buffer[t,:] = self.o2\n",
    "            self.d_buffer[t] = self.d\n",
    "            # Save next state \n",
    "            self.o = self.o2\n",
    "            if self.d: self.o = self.env.reset() # reset when done \n",
    "        r_avg = r_sum / ep_len_rollout\n",
    "        return self.o_buffer,self.a_buffer,self.r_buffer,self.o2_buffer,self.d_buffer,r_avg\n",
    "    \n",
    "    def evaluate(self,red=None):\n",
    "        \"\"\"\n",
    "        Evaluate\n",
    "        \"\"\"\n",
    "        o,d,ep_ret,ep_len = self.env.reset(red=red),False,0,0\n",
    "        while not(d or (ep_len == max_ep_len_eval)):\n",
    "            a = self.get_action(o,deterministic=True)\n",
    "            o,r,d,_ = self.env.step(a)\n",
    "            ep_ret += r # compute return \n",
    "            ep_len += 1\n",
    "        blue_health,red_health = self.env.blue_health,self.env.red_health\n",
    "        eval_res = [ep_ret,ep_len,blue_health,red_health] # evaluation result \n",
    "        return eval_res\n",
    "    \n",
    "print (\"Rollout worker classes (with and without RAY) ready.\")"
   ]
  },
  {
   "cell_type": "markdown",
   "metadata": {},
   "source": [
    "### Hyperparameters"
   ]
  },
  {
   "cell_type": "code",
   "execution_count": 4,
   "metadata": {},
   "outputs": [],
   "source": [
    "n_cpu = 11\n",
    "n_workers = 11\n",
    "total_steps,evaluate_every,print_every = 50000,50,5\n",
    "ep_len_rollout = 50*30 # 30sec rollout\n",
    "hdims,actv = [128,128],tf.nn.relu # [64,32,16],tf.nn.relu\n",
    "red_list = [Agents.SPOT_4G,\n",
    "            Agents.SPOT_5G,\n",
    "            Agents.SPOT_RANDOM,\n",
    "            Agents.EXPERT_SYSTEM_TRIAL_2,\n",
    "            Agents.EXPERT_SYSTEM_TRIAL_3_SCRIMMAGE_4,\n",
    "            Agents.EXPERT_SYSTEM,\n",
    "            Agents.SPOT_4G,\n",
    "            Agents.SPOT_5G,\n",
    "            Agents.EXPERT_SYSTEM_TRIAL_2,\n",
    "            Agents.EXPERT_SYSTEM_TRIAL_3_SCRIMMAGE_4,\n",
    "            Agents.EXPERT_SYSTEM\n",
    "           ]\n",
    "num_eval,max_ep_len_eval = len(red_list),15e3 # evaluation \n",
    "# Learning hyp\n",
    "batch_size,update_count = 2**12,50*10 # batchsize / number of updates\n",
    "lr = 1e-4 # 1e-3\n",
    "epsilon = 1e-5\n",
    "# SAC\n",
    "gamma = 0.98 # discount 0.99\n",
    "alpha_q,alpha_pi = 0.2,0.2 # 0.1\n",
    "polyak = 0.995 # 0.995\n",
    "# Buffer\n",
    "buffer_sz_long,buffer_sz_short = 1e7,1e6 # 1e5,1e5"
   ]
  },
  {
   "cell_type": "markdown",
   "metadata": {},
   "source": [
    "### Initialize Workers"
   ]
  },
  {
   "cell_type": "code",
   "execution_count": 5,
   "metadata": {
    "scrolled": true
   },
   "outputs": [
    {
     "name": "stderr",
     "output_type": "stream",
     "text": [
      "2020-07-06 19:45:21,296\tWARNING services.py:586 -- setpgrp failed, processes may not be cleaned up properly: [Errno 1] Operation not permitted.\n",
      "2020-07-06 19:45:21,299\tINFO resource_spec.py:212 -- Starting Ray with 4.98 GiB memory available for workers and up to 10.0 GiB for objects. You can adjust these settings with ray.init(memory=<bytes>, object_store_memory=<bytes>).\n",
      "2020-07-06 19:45:21,669\tINFO services.py:1078 -- View the Ray dashboard at \u001b[1m\u001b[32mlocalhost:8266\u001b[39m\u001b[22m\n"
     ]
    },
    {
     "name": "stdout",
     "output_type": "stream",
     "text": [
      "RAY initialized with [11] cpus and [11] workers.\n"
     ]
    }
   ],
   "source": [
    "ray.init(num_cpus=n_cpu,\n",
    "         memory = 5*1024*1024*1024,\n",
    "         object_store_memory = 10*1024*1024*1024,\n",
    "         driver_object_store_memory = 5*1024*1024*1024)\n",
    "tf.reset_default_graph()\n",
    "R = RolloutWorkerClass(hdims=hdims,actv=actv,\n",
    "                       lr=lr,gamma=gamma,alpha_q=alpha_q,alpha_pi=alpha_pi,\n",
    "                       polyak=polyak,epsilon=epsilon,\n",
    "                       seed=0)\n",
    "workers = [RayRolloutWorkerClass.remote(worker_id=i,hdims=hdims,actv=actv,\n",
    "                                        ep_len_rollout=ep_len_rollout) \n",
    "           for i in range(n_workers)]\n",
    "print (\"RAY initialized with [%d] cpus and [%d] workers.\"%\n",
    "       (n_cpu,n_workers))"
   ]
  },
  {
   "cell_type": "code",
   "execution_count": 6,
   "metadata": {},
   "outputs": [],
   "source": [
    "time.sleep(1)"
   ]
  },
  {
   "cell_type": "markdown",
   "metadata": {},
   "source": [
    "### Replay Buffers"
   ]
  },
  {
   "cell_type": "code",
   "execution_count": 7,
   "metadata": {},
   "outputs": [],
   "source": [
    "replay_buffer_long = ReplayBuffer(odim=R.odim,adim=R.adim,size=int(buffer_sz_long))\n",
    "replay_buffer_short = ReplayBuffer(odim=R.odim,adim=R.adim,size=int(buffer_sz_short))"
   ]
  },
  {
   "cell_type": "markdown",
   "metadata": {},
   "source": [
    "### Loop"
   ]
  },
  {
   "cell_type": "code",
   "execution_count": null,
   "metadata": {
    "scrolled": true
   },
   "outputs": [
    {
     "name": "stdout",
     "output_type": "stream",
     "text": [
      "\u001b[2m\u001b[36m(pid=19036)\u001b[0m \n",
      "\u001b[2m\u001b[36m(pid=19036)\u001b[0m \n",
      "\u001b[2m\u001b[36m(pid=19036)\u001b[0m      JSBSim Flight Dynamics Model v1.1.0.dev1 Jun 16 2020 00:16:24\n",
      "\u001b[2m\u001b[36m(pid=19034)\u001b[0m \n",
      "\u001b[2m\u001b[36m(pid=19034)\u001b[0m \n",
      "\u001b[2m\u001b[36m(pid=19034)\u001b[0m      JSBSim Flight Dynamics Model v1.1.0.dev1 Jun 16 2020 00:16:24\n",
      "\u001b[2m\u001b[36m(pid=19033)\u001b[0m \n",
      "\u001b[2m\u001b[36m(pid=19033)\u001b[0m \n",
      "\u001b[2m\u001b[36m(pid=19033)\u001b[0m      JSBSim Flight Dynamics Model v1.1.0.dev1 Jun 16 2020 00:16:24\n",
      "\u001b[2m\u001b[36m(pid=19030)\u001b[0m \n",
      "\u001b[2m\u001b[36m(pid=19030)\u001b[0m \n",
      "\u001b[2m\u001b[36m(pid=19030)\u001b[0m      JSBSim Flight Dynamics Model v1.1.0.dev1 Jun 16 2020 00:16:24\n",
      "\u001b[2m\u001b[36m(pid=19031)\u001b[0m \n",
      "\u001b[2m\u001b[36m(pid=19031)\u001b[0m \n",
      "\u001b[2m\u001b[36m(pid=19031)\u001b[0m      JSBSim Flight Dynamics Model v1.1.0.dev1 Jun 16 2020 00:16:24\n",
      "\u001b[2m\u001b[36m(pid=19029)\u001b[0m \n",
      "\u001b[2m\u001b[36m(pid=19029)\u001b[0m \n",
      "\u001b[2m\u001b[36m(pid=19029)\u001b[0m      JSBSim Flight Dynamics Model v1.1.0.dev1 Jun 16 2020 00:16:24\n",
      "\u001b[2m\u001b[36m(pid=19037)\u001b[0m \n",
      "\u001b[2m\u001b[36m(pid=19037)\u001b[0m \n",
      "\u001b[2m\u001b[36m(pid=19037)\u001b[0m      JSBSim Flight Dynamics Model v1.1.0.dev1 Jun 16 2020 00:16:24\n",
      "\u001b[2m\u001b[36m(pid=19028)\u001b[0m \n",
      "\u001b[2m\u001b[36m(pid=19028)\u001b[0m \n",
      "\u001b[2m\u001b[36m(pid=19028)\u001b[0m      JSBSim Flight Dynamics Model v1.1.0.dev1 Jun 16 2020 00:16:24\n",
      "\u001b[2m\u001b[36m(pid=19035)\u001b[0m \n",
      "\u001b[2m\u001b[36m(pid=19035)\u001b[0m \n",
      "\u001b[2m\u001b[36m(pid=19035)\u001b[0m      JSBSim Flight Dynamics Model v1.1.0.dev1 Jun 16 2020 00:16:24\n",
      "\u001b[2m\u001b[36m(pid=19032)\u001b[0m \n",
      "\u001b[2m\u001b[36m(pid=19032)\u001b[0m \n",
      "\u001b[2m\u001b[36m(pid=19032)\u001b[0m      JSBSim Flight Dynamics Model v1.1.0.dev1 Jun 16 2020 00:16:24\n",
      "\u001b[2m\u001b[36m(pid=19027)\u001b[0m \n",
      "\u001b[2m\u001b[36m(pid=19027)\u001b[0m \n",
      "\u001b[2m\u001b[36m(pid=19027)\u001b[0m      JSBSim Flight Dynamics Model v1.1.0.dev1 Jun 16 2020 00:16:24\n",
      "\u001b[2m\u001b[36m(pid=19036)\u001b[0m Ray Worker [0] Ready.\n",
      "\u001b[2m\u001b[36m(pid=19029)\u001b[0m Ray Worker [7] Ready.\n",
      "\u001b[2m\u001b[36m(pid=19033)\u001b[0m Ray Worker [8] Ready.\n",
      "\u001b[2m\u001b[36m(pid=19030)\u001b[0m Ray Worker [5] Ready.\n",
      "\u001b[2m\u001b[36m(pid=19034)\u001b[0m Ray Worker [1] Ready.\n",
      "\u001b[2m\u001b[36m(pid=19027)\u001b[0m Ray Worker [3] Ready.\n",
      "\u001b[2m\u001b[36m(pid=19031)\u001b[0m Ray Worker [2] Ready.\n",
      "\u001b[2m\u001b[36m(pid=19037)\u001b[0m Ray Worker [9] Ready.\n",
      "\u001b[2m\u001b[36m(pid=19035)\u001b[0m Ray Worker [6] Ready.\n",
      "\u001b[2m\u001b[36m(pid=19032)\u001b[0m Ray Worker [10] Ready.\n",
      "\u001b[2m\u001b[36m(pid=19028)\u001b[0m Ray Worker [4] Ready.\n",
      "[1/50000] rollout:[142.9]s update:[8.7]s r_avg:[-0.0439] avg_q:[0.723].\n",
      "[Eval. start] step:[1/50000][0.0%] #step:[1.6e+04] time:[day:[01] 00:02:31] ram:[16.6%].\n",
      " [0/11] [spot_4g] ep_ret:[0.1828] ep_len:[3001]. blue health:[1.00] red health:[1.00]\n",
      " [1/11] [spot_5g] ep_ret:[1.7462] ep_len:[3001]. blue health:[0.99] red health:[1.00]\n",
      " [2/11] [spot_random] ep_ret:[0.1643] ep_len:[3001]. blue health:[1.00] red health:[1.00]\n",
      " [3/11] [es_trial2] ep_ret:[101.4335] ep_len:[2054]. blue health:[1.00] red health:[0.00]\n",
      " [4/11] [es_trial3_scrimmage4] ep_ret:[-100.9607] ep_len:[1656]. blue health:[0.00] red health:[1.00]\n",
      " [5/11] [expert_system] ep_ret:[-101.1531] ep_len:[1977]. blue health:[0.00] red health:[1.00]\n",
      " [6/11] [spot_4g] ep_ret:[24.9752] ep_len:[3001]. blue health:[1.00] red health:[0.78]\n",
      " [7/11] [spot_5g] ep_ret:[0.2171] ep_len:[3001]. blue health:[1.00] red health:[1.00]\n",
      " [8/11] [es_trial2] ep_ret:[101.8878] ep_len:[2799]. blue health:[1.00] red health:[0.00]\n",
      " [9/11] [es_trial3_scrimmage4] ep_ret:[-100.9119] ep_len:[983]. blue health:[0.00] red health:[1.00]\n",
      " [10/11] [expert_system] ep_ret:[-43.3330] ep_len:[3001]. blue health:[0.57] red health:[1.00]\n",
      "[Eval. done] time:[day:[01] 00:06:51] ep_ret_avg:[-10.523].\n",
      "\n",
      "[../data/net/adt_cont_tactic/model_and_buffers_1.npz] saved.\n",
      "[5/50000] rollout:[144.4]s update:[8.6]s r_avg:[-0.0127] avg_q:[4.626].\n",
      "[10/50000] rollout:[140.3]s update:[8.6]s r_avg:[-0.0305] avg_q:[8.829].\n",
      "\u001b[2m\u001b[33m(pid=raylet)\u001b[0m E0706 20:14:36.908355 19016 node_manager.cc:3118] Plasma object ffffffffffffffffffffffff01000080da000000 was evicted before the raylet could pin it.\n",
      "[15/50000] rollout:[140.3]s update:[8.6]s r_avg:[-0.0357] avg_q:[12.163].\n",
      "[20/50000] rollout:[136.9]s update:[8.7]s r_avg:[-0.0006] avg_q:[14.709].\n",
      "[25/50000] rollout:[145.3]s update:[8.7]s r_avg:[-0.0071] avg_q:[16.660].\n",
      "[30/50000] rollout:[139.4]s update:[8.7]s r_avg:[-0.0211] avg_q:[18.086].\n",
      "[35/50000] rollout:[138.7]s update:[8.8]s r_avg:[-0.0050] avg_q:[19.258].\n"
     ]
    }
   ],
   "source": [
    "start_time = time.time()\n",
    "n_env_step = 0 # number of environment steps\n",
    "for t in range(int(total_steps)):\n",
    "    esec = time.time()-start_time\n",
    "    \n",
    "    # Synchronize worker weights\n",
    "    weights = R.get_weights()\n",
    "    set_weights_list = [worker.set_weights.remote(weights) for worker in workers] \n",
    "    \n",
    "    # Make rollout and accumulate to Buffers\n",
    "    t_start = time.time()\n",
    "    ops = [worker.rollout.remote() for worker in workers]\n",
    "    rollout_vals = ray.get(ops)\n",
    "    r_sum = 0\n",
    "    for rollout_val in rollout_vals:\n",
    "        o_buffer,a_buffer,r_buffer,o2_buffer,d_buffer,r_rollout_avg = rollout_val\n",
    "        r_sum += r_rollout_avg\n",
    "        for i in range(ep_len_rollout):\n",
    "            o,a,r,o2,d = o_buffer[i,:],a_buffer[i,:],r_buffer[i],o2_buffer[i,:],d_buffer[i]\n",
    "            replay_buffer_long.store(o, a, r, o2, d) \n",
    "            replay_buffer_short.store(o, a, r, o2, d) \n",
    "            n_env_step += 1\n",
    "    r_avg = r_sum / len(rollout_vals)\n",
    "    sec_rollout = time.time() - t_start\n",
    "    \n",
    "    # Update\n",
    "    t_start = time.time()\n",
    "    avg_qs = np.zeros(int(update_count))\n",
    "    for c_idx in range(int(update_count)):\n",
    "        batch_long = replay_buffer_long.sample_batch(batch_size//2) \n",
    "        batch_short = replay_buffer_short.sample_batch(batch_size//2) \n",
    "        feed_dict = {R.model['o_ph']: np.concatenate((batch_long['obs1'],batch_short['obs1'])),\n",
    "                     R.model['o2_ph']: np.concatenate((batch_long['obs2'],batch_short['obs2'])),\n",
    "                     R.model['a_ph']: np.concatenate((batch_long['acts'],batch_short['acts'])),\n",
    "                     R.model['r_ph']: np.concatenate((batch_long['rews'],batch_short['rews'])),\n",
    "                     R.model['d_ph']: np.concatenate((batch_long['done'],batch_short['done']))\n",
    "                    }\n",
    "        outs = R.sess.run(R.step_ops, feed_dict)\n",
    "        q1_vals,q2_vals = outs[3],outs[4]\n",
    "        avg_q = 0.5*np.mean(q1_vals)+0.5*np.mean(q2_vals)\n",
    "        avg_qs[c_idx] = avg_q\n",
    "    sec_update = time.time() - t_start\n",
    "    \n",
    "    # Synchronize worker weights (after update)\n",
    "    weights = R.get_weights()\n",
    "    set_weights_list = [worker.set_weights.remote(weights) for worker in workers] \n",
    "    \n",
    "    # Print\n",
    "    if (t == 0) or (((t+1)%print_every) == 0): \n",
    "        print (\"[%d/%d] rollout:[%.1f]s update:[%.1f]s r_avg:[%.4f] avg_q:[%.3f].\"%\n",
    "               (t+1,total_steps,sec_rollout,sec_update,r_avg,np.mean(avg_qs)))\n",
    "    \n",
    "    # Evaluate\n",
    "    if (t == 0) or (((t+1)%evaluate_every) == 0): \n",
    "        ram_percent = psutil.virtual_memory().percent # memory usage\n",
    "        print (\"[Eval. start] step:[%d/%d][%.1f%%] #step:[%.1e] time:[%s] ram:[%.1f%%].\"%\n",
    "               (t+1,total_steps,t/total_steps*100,\n",
    "                n_env_step,\n",
    "                time.strftime(\"day:[%d] %H:%M:%S\", time.gmtime(time.time()-start_time)),\n",
    "                ram_percent)\n",
    "              )\n",
    "        \n",
    "        LOCAL_EVAL = 0\n",
    "        if LOCAL_EVAL:\n",
    "            ep_ret_sum = 0\n",
    "            for eval_idx in range(num_eval): \n",
    "                red = red_list[eval_idx]\n",
    "                o,d,ep_ret,ep_len = R.env.reset(red=red),False,0,0\n",
    "                while not(d or (ep_len == max_ep_len_eval)):\n",
    "                    a = R.get_action(o,deterministic=True)\n",
    "                    o,r,d,_ = R.env.step(a)\n",
    "                    ep_ret += r # compute return\n",
    "                    ep_len += 1\n",
    "                ep_ret_sum += ep_ret\n",
    "                blue_health,red_health = R.env.blue_health,R.env.red_health\n",
    "                print (\" [%d/%d] [%s] ep_ret:[%.4f] ep_len:[%d]. blue health:[%.2f] red health:[%.2f]\"\n",
    "                    %(eval_idx,num_eval,red,ep_ret,ep_len, blue_health,red_health))\n",
    "            ep_ret_avg = ep_ret_sum / num_eval\n",
    "            print (\"[Eval. done] time:[%s] ep_ret_avg:[%.3f].\"%\n",
    "                   (time.strftime(\"day:[%d] %H:%M:%S\", time.gmtime(time.time()-start_time)),\n",
    "                    ep_ret_avg)\n",
    "                  )\n",
    "        else: # parallel evaluation with Ray\n",
    "            ops = []\n",
    "            for i_idx in range(num_eval):\n",
    "                worker,red = workers[i_idx],red_list[i_idx]\n",
    "                ops.append(worker.evaluate.remote(red=red))\n",
    "            eval_vals = ray.get(ops)\n",
    "            ep_ret_sum = 0\n",
    "            for i_idx in range(num_eval):\n",
    "                red,eval_val = red_list[i_idx],eval_vals[i_idx]\n",
    "                ep_ret,ep_len,blue_health,red_health = eval_val[0],eval_val[1],eval_val[2],eval_val[3]\n",
    "                ep_ret_sum += ep_ret\n",
    "                print (\" [%d/%d] [%s] ep_ret:[%.4f] ep_len:[%d]. blue health:[%.2f] red health:[%.2f]\"\n",
    "                    %(i_idx,len(eval_vals),red,ep_ret,ep_len,blue_health,red_health))\n",
    "            ep_ret_avg = ep_ret_sum / num_eval\n",
    "            print (\"[Eval. done] time:[%s] ep_ret_avg:[%.3f].\\n\"%\n",
    "                   (time.strftime(\"day:[%d] %H:%M:%S\", time.gmtime(time.time()-start_time)),\n",
    "                    ep_ret_avg)\n",
    "                  )\n",
    "        \n",
    "        # Save current SAC model and replay buffers \n",
    "        npz_path = '../data/net/adt_cont_tactic/model_and_buffers_%d.npz'%(t+1)\n",
    "        save_sac_model_and_buffers(npz_path,R,replay_buffer_long,replay_buffer_short,\n",
    "                                   VERBOSE=False,IGNORE_BUFFERS=True)\n",
    "\n",
    "print (\"Done.\")"
   ]
  },
  {
   "cell_type": "code",
   "execution_count": null,
   "metadata": {},
   "outputs": [],
   "source": []
  },
  {
   "cell_type": "markdown",
   "metadata": {},
   "source": [
    "### Close"
   ]
  },
  {
   "cell_type": "code",
   "execution_count": null,
   "metadata": {},
   "outputs": [],
   "source": [
    "ray.shutdown()"
   ]
  },
  {
   "cell_type": "code",
   "execution_count": null,
   "metadata": {},
   "outputs": [],
   "source": []
  },
  {
   "cell_type": "markdown",
   "metadata": {},
   "source": [
    "### Save model weights and replay buffers"
   ]
  },
  {
   "cell_type": "code",
   "execution_count": null,
   "metadata": {},
   "outputs": [],
   "source": [
    "# Path to save the npz file \n",
    "npz_path = '../data/net/adt_cont_tactic/model_and_buffers_final.npz'\n",
    "save_sac_model_and_buffers(npz_path,R,replay_buffer_long,replay_buffer_short,\n",
    "                           VERBOSE=False,IGNORE_BUFFERS=True)"
   ]
  },
  {
   "cell_type": "code",
   "execution_count": null,
   "metadata": {},
   "outputs": [],
   "source": []
  },
  {
   "cell_type": "code",
   "execution_count": null,
   "metadata": {},
   "outputs": [],
   "source": []
  },
  {
   "cell_type": "markdown",
   "metadata": {},
   "source": [
    "### Restore "
   ]
  },
  {
   "cell_type": "code",
   "execution_count": null,
   "metadata": {},
   "outputs": [],
   "source": [
    "npz_path = '../data/net/adt_cont_tactic/model_and_buffers_final.npz'\n",
    "restore_sac_model_and_buffers(npz_path,R,replay_buffer_long,replay_buffer_short,\n",
    "                              VERBOSE=False,IGNORE_BUFFERS=False)"
   ]
  },
  {
   "cell_type": "code",
   "execution_count": null,
   "metadata": {},
   "outputs": [],
   "source": []
  },
  {
   "cell_type": "markdown",
   "metadata": {},
   "source": [
    "### Test Run"
   ]
  },
  {
   "cell_type": "code",
   "execution_count": null,
   "metadata": {
    "scrolled": true
   },
   "outputs": [],
   "source": [
    "eval_env = get_eval_env()\n",
    "red_list = [Agents.SPOT_4G,Agents.SPOT_5G,Agents.SPOT_RANDOM,\n",
    "            Agents.EXPERT_SYSTEM_TRIAL_2,Agents.EXPERT_SYSTEM_TRIAL_3_SCRIMMAGE_4,\n",
    "            Agents.EXPERT_SYSTEM]\n",
    "red = red_list[0]\n",
    "o,d,ep_ret,ep_len = eval_env.reset(red=red),False,0,0\n",
    "while not(d or (ep_len == max_ep_len_eval)):\n",
    "    a = R.get_action(o,deterministic=True)\n",
    "    o,r,d,_ = eval_env.step(a)\n",
    "    ep_ret += r # compute return \n",
    "    ep_len += 1\n",
    "print (\"[Evaluate] ep_ret:[%.4f] ep_len:[%d]\"\n",
    "    %(eval_idx,ep_len))\n",
    "eval_env.close() # close env"
   ]
  },
  {
   "cell_type": "code",
   "execution_count": null,
   "metadata": {},
   "outputs": [],
   "source": []
  }
 ],
 "metadata": {
  "kernelspec": {
   "display_name": "Python 3",
   "language": "python",
   "name": "python3"
  },
  "language_info": {
   "codemirror_mode": {
    "name": "ipython",
    "version": 3
   },
   "file_extension": ".py",
   "mimetype": "text/x-python",
   "name": "python",
   "nbconvert_exporter": "python",
   "pygments_lexer": "ipython3",
   "version": "3.6.8"
  }
 },
 "nbformat": 4,
 "nbformat_minor": 4
}
