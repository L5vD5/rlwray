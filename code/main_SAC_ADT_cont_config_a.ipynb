{
 "cells": [
  {
   "cell_type": "markdown",
   "metadata": {},
   "source": [
    "# SAC with CustomADTEnvContinuous"
   ]
  },
  {
   "cell_type": "code",
   "execution_count": 1,
   "metadata": {},
   "outputs": [
    {
     "name": "stdout",
     "output_type": "stream",
     "text": [
      "Packaged loaded. TF version is [1.15.0].\n"
     ]
    }
   ],
   "source": [
    "import datetime,os\n",
    "import tensorflow as tf\n",
    "from episci.agents.utils.constants import Agents\n",
    "from sac_adt_train import train\n",
    "print (\"Packaged loaded. TF version is [%s].\"%(tf.__version__))"
   ]
  },
  {
   "cell_type": "markdown",
   "metadata": {},
   "source": [
    "### Hyperparameters"
   ]
  },
  {
   "cell_type": "code",
   "execution_count": 2,
   "metadata": {},
   "outputs": [],
   "source": [
    "expname = 'sac_adt_cont_a'\n",
    "# Ray\n",
    "n_cpu = 31\n",
    "n_workers = 30\n",
    "# Rollouts\n",
    "total_steps,burnin_steps = 50000,5\n",
    "evaluate_every,print_every = 50,5\n",
    "action_length,action_length_eval = 5,5 # 50/5=10HZ\n",
    "ep_len_rollout = 10*150 # 150sec rollout\n",
    "hdims,actv = [128,128],tf.nn.relu\n",
    "\"\"\"\n",
    "red_list_train = {\n",
    "    Agents.SPOT_4G: 0.15,\n",
    "    Agents.SPOT_5G: 0.30,\n",
    "    Agents.SPOT_RANDOM: 0.45,\n",
    "    Agents.EXPERT_SYSTEM_TRIAL_2: 0.6,\n",
    "    Agents.EXPERT_SYSTEM_TRIAL_3_SCRIMMAGE_4: 0.75,\n",
    "    Agents.EXPERT_SYSTEM: 1.0\n",
    "    }\n",
    "\"\"\"\n",
    "red_list_train = {\n",
    "    Agents.SPOT_RANDOM: 0.15,\n",
    "    Agents.EXPERT_SYSTEM: 1.0\n",
    "    }\n",
    "red_list_eval = [\n",
    "    Agents.ZOMBIE, \n",
    "    Agents.ROSIE, \n",
    "    Agents.BUD, \n",
    "    Agents.BUD_FSM, \n",
    "    Agents.EXPERT_SYSTEM_TRIAL_2, \n",
    "    Agents.EXPERT_SYSTEM_TRIAL_3_SCRIMMAGE_4, \n",
    "    Agents.EXPERT_SYSTEM\n",
    "    ]*4\n",
    "num_eval,max_ep_len_eval = len(red_list_eval),15e3 # evaluation \n",
    "# Learning hyp\n",
    "batch_size,update_count = 2**16,500 # batchsize / number of updates\n",
    "lr = 1e-3\n",
    "epsilon = 1e-5\n",
    "# SAC\n",
    "gamma = 0.99 # discount 0.99\n",
    "alpha_q,alpha_pi = 0.05,0.5\n",
    "polyak = 0.995 # 0.995\n",
    "# Buffer\n",
    "buffer_sz_long,buffer_sz_short = 1e5,1e4\n",
    "# Temperature % epsilon greediness \n",
    "temp_min,temp_max = 1.0,1.0\n",
    "eps_greedy = 0.0\n",
    "# Logger path\n",
    "txt_path = '../log/%s/log_%s.txt'%(\n",
    "    expname,datetime.datetime.now().strftime(\"%b-%d-%Y-%H:%M:%S\"))\n",
    "# Restore\n",
    "npz_path_restore = '../data/net/sac_adt_cont_a/model_and_buffers_1550.npz' "
   ]
  },
  {
   "cell_type": "markdown",
   "metadata": {},
   "source": [
    "### Train"
   ]
  },
  {
   "cell_type": "code",
   "execution_count": 3,
   "metadata": {},
   "outputs": [],
   "source": [
    "args = {'expname':expname,'n_cpu':n_cpu,'n_workers':n_workers,\n",
    "        'total_steps':total_steps,'burnin_steps':burnin_steps,\n",
    "        'evaluate_every':evaluate_every,'print_every':print_every,\n",
    "        'action_length':action_length,'action_length_eval':action_length_eval,\n",
    "        'ep_len_rollout':ep_len_rollout,\n",
    "        'hdims':hdims,'actv':actv,\n",
    "        'red_list_train':red_list_train,\n",
    "        'red_list_eval':red_list_eval,'num_eval':num_eval,'max_ep_len_eval':max_ep_len_eval,\n",
    "        'batch_size':batch_size,'update_count':update_count,\n",
    "        'lr':lr,'epsilon':epsilon,'gamma':gamma,\n",
    "        'alpha_q':alpha_q,'alpha_pi':alpha_pi,'polyak':polyak,\n",
    "        'buffer_sz_long':buffer_sz_long,'buffer_sz_short':buffer_sz_short,\n",
    "        'temp_min':temp_min,'temp_max':temp_max,'eps_greedy':eps_greedy,\n",
    "        'txt_path':txt_path,'npz_path_restore':npz_path_restore}"
   ]
  },
  {
   "cell_type": "code",
   "execution_count": null,
   "metadata": {
    "scrolled": true
   },
   "outputs": [
    {
     "name": "stdout",
     "output_type": "stream",
     "text": [
      "../log/sac_adt_cont_a/log_Jul-19-2020-05:23:54.txt\n",
      "[../log/sac_adt_cont_a/log_Jul-19-2020-05:23:54.txt] created.\n"
     ]
    },
    {
     "name": "stderr",
     "output_type": "stream",
     "text": [
      "2020-07-19 05:23:55,633\tINFO resource_spec.py:212 -- Starting Ray with 144.09 GiB memory available for workers and up to 65.75 GiB for objects. You can adjust these settings with ray.init(memory=<bytes>, object_store_memory=<bytes>).\n",
      "2020-07-19 05:23:55,863\tWARNING services.py:923 -- Redis failed to start, retrying now.\n",
      "2020-07-19 05:23:56,060\tINFO services.py:1165 -- View the Ray dashboard at \u001b[1m\u001b[32mlocalhost:8265\u001b[39m\u001b[22m\n"
     ]
    },
    {
     "name": "stdout",
     "output_type": "stream",
     "text": [
      "RAY initialized with [31] cpus and [30] workers.\n",
      "[../data/net/sac_adt_cont_a/model_and_buffers_1550.npz] loaded.\n",
      "\u001b[2m\u001b[36m(pid=6463)\u001b[0m \n",
      "\u001b[2m\u001b[36m(pid=6463)\u001b[0m \n",
      "\u001b[2m\u001b[36m(pid=6463)\u001b[0m      JSBSim Flight Dynamics Model v1.1.0.dev1 Jul 11 2020 05:35:14\n",
      "\u001b[2m\u001b[36m(pid=6447)\u001b[0m \n",
      "\u001b[2m\u001b[36m(pid=6447)\u001b[0m \n",
      "\u001b[2m\u001b[36m(pid=6447)\u001b[0m      JSBSim Flight Dynamics Model v1.1.0.dev1 Jul 11 2020 05:35:14\n",
      "\u001b[2m\u001b[36m(pid=6458)\u001b[0m \n",
      "\u001b[2m\u001b[36m(pid=6458)\u001b[0m \n",
      "\u001b[2m\u001b[36m(pid=6458)\u001b[0m      JSBSim Flight Dynamics Model v1.1.0.dev1 Jul 11 2020 05:35:14\n",
      "\u001b[2m\u001b[36m(pid=6459)\u001b[0m \n",
      "\u001b[2m\u001b[36m(pid=6459)\u001b[0m \n",
      "\u001b[2m\u001b[36m(pid=6459)\u001b[0m      JSBSim Flight Dynamics Model v1.1.0.dev1 Jul 11 2020 05:35:14\n",
      "\u001b[2m\u001b[36m(pid=6453)\u001b[0m \n",
      "\u001b[2m\u001b[36m(pid=6453)\u001b[0m \n",
      "\u001b[2m\u001b[36m(pid=6453)\u001b[0m      JSBSim Flight Dynamics Model v1.1.0.dev1 Jul 11 2020 05:35:14\n",
      "\u001b[2m\u001b[36m(pid=6449)\u001b[0m \n",
      "\u001b[2m\u001b[36m(pid=6449)\u001b[0m \n",
      "\u001b[2m\u001b[36m(pid=6449)\u001b[0m      JSBSim Flight Dynamics Model v1.1.0.dev1 Jul 11 2020 05:35:14\n",
      "\u001b[2m\u001b[36m(pid=6443)\u001b[0m \n",
      "\u001b[2m\u001b[36m(pid=6443)\u001b[0m \n",
      "\u001b[2m\u001b[36m(pid=6443)\u001b[0m      JSBSim Flight Dynamics Model v1.1.0.dev1 Jul 11 2020 05:35:14\n",
      "\u001b[2m\u001b[36m(pid=6441)\u001b[0m \n",
      "\u001b[2m\u001b[36m(pid=6441)\u001b[0m \n",
      "\u001b[2m\u001b[36m(pid=6441)\u001b[0m      JSBSim Flight Dynamics Model v1.1.0.dev1 Jul 11 2020 05:35:14\n",
      "\u001b[2m\u001b[36m(pid=6454)\u001b[0m \n",
      "\u001b[2m\u001b[36m(pid=6454)\u001b[0m \n",
      "\u001b[2m\u001b[36m(pid=6454)\u001b[0m      JSBSim Flight Dynamics Model v1.1.0.dev1 Jul 11 2020 05:35:14\n",
      "\u001b[2m\u001b[36m(pid=6462)\u001b[0m \n",
      "\u001b[2m\u001b[36m(pid=6462)\u001b[0m \n",
      "\u001b[2m\u001b[36m(pid=6462)\u001b[0m      JSBSim Flight Dynamics Model v1.1.0.dev1 Jul 11 2020 05:35:14\n",
      "\u001b[2m\u001b[36m(pid=6467)\u001b[0m \n",
      "\u001b[2m\u001b[36m(pid=6467)\u001b[0m \n",
      "\u001b[2m\u001b[36m(pid=6467)\u001b[0m      JSBSim Flight Dynamics Model v1.1.0.dev1 Jul 11 2020 05:35:14\n",
      "\u001b[2m\u001b[36m(pid=6444)\u001b[0m \n",
      "\u001b[2m\u001b[36m(pid=6444)\u001b[0m \n",
      "\u001b[2m\u001b[36m(pid=6444)\u001b[0m      JSBSim Flight Dynamics Model v1.1.0.dev1 Jul 11 2020 05:35:14\n",
      "\u001b[2m\u001b[36m(pid=6440)\u001b[0m \n",
      "\u001b[2m\u001b[36m(pid=6440)\u001b[0m \n",
      "\u001b[2m\u001b[36m(pid=6440)\u001b[0m      JSBSim Flight Dynamics Model v1.1.0.dev1 Jul 11 2020 05:35:14\n",
      "\u001b[2m\u001b[36m(pid=6452)\u001b[0m \n",
      "\u001b[2m\u001b[36m(pid=6452)\u001b[0m \n",
      "\u001b[2m\u001b[36m(pid=6452)\u001b[0m      JSBSim Flight Dynamics Model v1.1.0.dev1 Jul 11 2020 05:35:14\n",
      "\u001b[2m\u001b[36m(pid=6446)\u001b[0m \n",
      "\u001b[2m\u001b[36m(pid=6446)\u001b[0m \n",
      "\u001b[2m\u001b[36m(pid=6446)\u001b[0m      JSBSim Flight Dynamics Model v1.1.0.dev1 Jul 11 2020 05:35:14\n",
      "\u001b[2m\u001b[36m(pid=6442)\u001b[0m \n",
      "\u001b[2m\u001b[36m(pid=6442)\u001b[0m \n",
      "\u001b[2m\u001b[36m(pid=6442)\u001b[0m      JSBSim Flight Dynamics Model v1.1.0.dev1 Jul 11 2020 05:35:14\n",
      "\u001b[2m\u001b[36m(pid=6448)\u001b[0m \n",
      "\u001b[2m\u001b[36m(pid=6448)\u001b[0m \n",
      "\u001b[2m\u001b[36m(pid=6448)\u001b[0m      JSBSim Flight Dynamics Model v1.1.0.dev1 Jul 11 2020 05:35:14\n",
      "\u001b[2m\u001b[36m(pid=6460)\u001b[0m \n",
      "\u001b[2m\u001b[36m(pid=6460)\u001b[0m \n",
      "\u001b[2m\u001b[36m(pid=6460)\u001b[0m      JSBSim Flight Dynamics Model v1.1.0.dev1 Jul 11 2020 05:35:14\n",
      "\u001b[2m\u001b[36m(pid=6445)\u001b[0m \n",
      "\u001b[2m\u001b[36m(pid=6445)\u001b[0m \n",
      "\u001b[2m\u001b[36m(pid=6445)\u001b[0m      JSBSim Flight Dynamics Model v1.1.0.dev1 Jul 11 2020 05:35:14\n",
      "\u001b[2m\u001b[36m(pid=6450)\u001b[0m \n",
      "\u001b[2m\u001b[36m(pid=6450)\u001b[0m \n",
      "\u001b[2m\u001b[36m(pid=6450)\u001b[0m      JSBSim Flight Dynamics Model v1.1.0.dev1 Jul 11 2020 05:35:14\n",
      "\u001b[2m\u001b[36m(pid=6457)\u001b[0m \n",
      "\u001b[2m\u001b[36m(pid=6457)\u001b[0m \n",
      "\u001b[2m\u001b[36m(pid=6457)\u001b[0m      JSBSim Flight Dynamics Model v1.1.0.dev1 Jul 11 2020 05:35:14\n",
      "\u001b[2m\u001b[36m(pid=6455)\u001b[0m \n",
      "\u001b[2m\u001b[36m(pid=6455)\u001b[0m \n",
      "\u001b[2m\u001b[36m(pid=6455)\u001b[0m      JSBSim Flight Dynamics Model v1.1.0.dev1 Jul 11 2020 05:35:14\n",
      "\u001b[2m\u001b[36m(pid=6456)\u001b[0m \n",
      "\u001b[2m\u001b[36m(pid=6456)\u001b[0m \n",
      "\u001b[2m\u001b[36m(pid=6456)\u001b[0m      JSBSim Flight Dynamics Model v1.1.0.dev1 Jul 11 2020 05:35:14\n",
      "\u001b[2m\u001b[36m(pid=6465)\u001b[0m \n",
      "\u001b[2m\u001b[36m(pid=6465)\u001b[0m \n",
      "\u001b[2m\u001b[36m(pid=6465)\u001b[0m      JSBSim Flight Dynamics Model v1.1.0.dev1 Jul 11 2020 05:35:14\n",
      "\u001b[2m\u001b[36m(pid=6461)\u001b[0m \n",
      "\u001b[2m\u001b[36m(pid=6461)\u001b[0m \n",
      "\u001b[2m\u001b[36m(pid=6461)\u001b[0m      JSBSim Flight Dynamics Model v1.1.0.dev1 Jul 11 2020 05:35:14\n",
      "\u001b[2m\u001b[36m(pid=6471)\u001b[0m \n",
      "\u001b[2m\u001b[36m(pid=6471)\u001b[0m \n",
      "\u001b[2m\u001b[36m(pid=6471)\u001b[0m      JSBSim Flight Dynamics Model v1.1.0.dev1 Jul 11 2020 05:35:14\n",
      "\u001b[2m\u001b[36m(pid=6468)\u001b[0m \n",
      "\u001b[2m\u001b[36m(pid=6468)\u001b[0m \n",
      "\u001b[2m\u001b[36m(pid=6468)\u001b[0m      JSBSim Flight Dynamics Model v1.1.0.dev1 Jul 11 2020 05:35:14\n",
      "\u001b[2m\u001b[36m(pid=6469)\u001b[0m \n",
      "\u001b[2m\u001b[36m(pid=6469)\u001b[0m \n",
      "\u001b[2m\u001b[36m(pid=6469)\u001b[0m      JSBSim Flight Dynamics Model v1.1.0.dev1 Jul 11 2020 05:35:14\n",
      "\u001b[2m\u001b[36m(pid=6470)\u001b[0m \n",
      "\u001b[2m\u001b[36m(pid=6470)\u001b[0m \n",
      "\u001b[2m\u001b[36m(pid=6470)\u001b[0m      JSBSim Flight Dynamics Model v1.1.0.dev1 Jul 11 2020 05:35:14\n",
      "\u001b[2m\u001b[36m(pid=6466)\u001b[0m \n",
      "\u001b[2m\u001b[36m(pid=6466)\u001b[0m \n",
      "\u001b[2m\u001b[36m(pid=6466)\u001b[0m      JSBSim Flight Dynamics Model v1.1.0.dev1 Jul 11 2020 05:35:14\n",
      "\u001b[2m\u001b[36m(pid=6463)\u001b[0m Ray Worker [7] Ready.\n",
      "\u001b[2m\u001b[36m(pid=6447)\u001b[0m Ray Worker [16] Ready.\n",
      "\u001b[2m\u001b[36m(pid=6458)\u001b[0m Ray Worker [28] Ready.\n",
      "\u001b[2m\u001b[36m(pid=6459)\u001b[0m Ray Worker [22] Ready.\n",
      "\u001b[2m\u001b[36m(pid=6454)\u001b[0m Ray Worker [17] Ready.\n",
      "\u001b[2m\u001b[36m(pid=6453)\u001b[0m Ray Worker [24] Ready.\n",
      "\u001b[2m\u001b[36m(pid=6452)\u001b[0m Ray Worker [18] Ready.\n",
      "\u001b[2m\u001b[36m(pid=6441)\u001b[0m Ray Worker [8] Ready.\n",
      "\u001b[2m\u001b[36m(pid=6456)\u001b[0m Ray Worker [27] Ready.\n",
      "\u001b[2m\u001b[36m(pid=6462)\u001b[0m Ray Worker [12] Ready.\n",
      "\u001b[2m\u001b[36m(pid=6471)\u001b[0m Ray Worker [23] Ready.\n",
      "\u001b[2m\u001b[36m(pid=6468)\u001b[0m Ray Worker [0] Ready.\n",
      "\u001b[2m\u001b[36m(pid=6461)\u001b[0m Ray Worker [2] Ready.\n",
      "\u001b[2m\u001b[36m(pid=6442)\u001b[0m Ray Worker [26] Ready.\n",
      "\u001b[2m\u001b[36m(pid=6467)\u001b[0m Ray Worker [25] Ready.\n",
      "\u001b[2m\u001b[36m(pid=6444)\u001b[0m Ray Worker [19] Ready.\n",
      "\u001b[2m\u001b[36m(pid=6446)\u001b[0m Ray Worker [13] Ready.\n",
      "\u001b[2m\u001b[36m(pid=6460)\u001b[0m Ray Worker [9] Ready.\n",
      "\u001b[2m\u001b[36m(pid=6445)\u001b[0m Ray Worker [5] Ready.\n",
      "\u001b[2m\u001b[36m(pid=6450)\u001b[0m Ray Worker [21] Ready.\n",
      "\u001b[2m\u001b[36m(pid=6457)\u001b[0m Ray Worker [11] Ready.\n",
      "\u001b[2m\u001b[36m(pid=6449)\u001b[0m Ray Worker [14] Ready.\n",
      "\u001b[2m\u001b[36m(pid=6465)\u001b[0m Ray Worker [4] Ready.\n",
      "\u001b[2m\u001b[36m(pid=6469)\u001b[0m Ray Worker [1] Ready.\n",
      "\u001b[2m\u001b[36m(pid=6466)\u001b[0m Ray Worker [6] Ready.\n",
      "\u001b[2m\u001b[36m(pid=6440)\u001b[0m Ray Worker [15] Ready.\n",
      "\u001b[2m\u001b[36m(pid=6448)\u001b[0m Ray Worker [20] Ready.\n",
      "\u001b[2m\u001b[36m(pid=6455)\u001b[0m Ray Worker [10] Ready.\n",
      "\u001b[2m\u001b[36m(pid=6443)\u001b[0m Ray Worker [29] Ready.\n",
      "\u001b[2m\u001b[36m(pid=6470)\u001b[0m Ray Worker [3] Ready.\n"
     ]
    }
   ],
   "source": [
    "train(**args)"
   ]
  },
  {
   "cell_type": "code",
   "execution_count": null,
   "metadata": {},
   "outputs": [],
   "source": []
  }
 ],
 "metadata": {
  "kernelspec": {
   "display_name": "Python 3",
   "language": "python",
   "name": "python3"
  },
  "language_info": {
   "codemirror_mode": {
    "name": "ipython",
    "version": 3
   },
   "file_extension": ".py",
   "mimetype": "text/x-python",
   "name": "python",
   "nbconvert_exporter": "python",
   "pygments_lexer": "ipython3",
   "version": "3.6.9"
  }
 },
 "nbformat": 4,
 "nbformat_minor": 4
}
