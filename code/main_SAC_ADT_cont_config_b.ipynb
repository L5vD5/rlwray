{
 "cells": [
  {
   "cell_type": "markdown",
   "metadata": {},
   "source": [
    "# SAC with CustomADTEnvContinuous"
   ]
  },
  {
   "cell_type": "code",
   "execution_count": 1,
   "metadata": {},
   "outputs": [
    {
     "name": "stdout",
     "output_type": "stream",
     "text": [
      "Packaged loaded. TF version is [1.15.0].\n"
     ]
    }
   ],
   "source": [
    "import datetime,os\n",
    "import tensorflow as tf\n",
    "from episci.agents.utils.constants import Agents\n",
    "from sac_adt_train import train\n",
    "print (\"Packaged loaded. TF version is [%s].\"%(tf.__version__))"
   ]
  },
  {
   "cell_type": "markdown",
   "metadata": {},
   "source": [
    "### Hyperparameters"
   ]
  },
  {
   "cell_type": "code",
   "execution_count": 2,
   "metadata": {},
   "outputs": [],
   "source": [
    "expname = 'sac_adt_cont_b'\n",
    "# Ray\n",
    "n_cpu = 30\n",
    "n_workers = 30\n",
    "# Rollouts\n",
    "total_steps,burnin_steps = 50000,5\n",
    "evaluate_every,print_every = 50,5\n",
    "action_length,action_length_eval = 5,5 # 50/5=10HZ\n",
    "ep_len_rollout = 10*150 # 150sec rollout\n",
    "hdims,actv = [128,128],tf.nn.relu\n",
    "red_list_train = {\n",
    "    Agents.SPOT_4G: 0.15,\n",
    "    Agents.SPOT_5G: 0.30,\n",
    "    Agents.SPOT_RANDOM: 0.45,\n",
    "    Agents.EXPERT_SYSTEM_TRIAL_2: 0.6,\n",
    "    Agents.EXPERT_SYSTEM_TRIAL_3_SCRIMMAGE_4: 0.75,\n",
    "    Agents.EXPERT_SYSTEM: 1.0\n",
    "    }\n",
    "red_list_eval = [\n",
    "    Agents.ZOMBIE, \n",
    "    Agents.ROSIE, \n",
    "    Agents.BUD, \n",
    "    Agents.BUD_FSM, \n",
    "    Agents.EXPERT_SYSTEM_TRIAL_2, \n",
    "    Agents.EXPERT_SYSTEM_TRIAL_3_SCRIMMAGE_4, \n",
    "    Agents.EXPERT_SYSTEM\n",
    "    ]*4\n",
    "num_eval,max_ep_len_eval = len(red_list_eval),15e3 # evaluation \n",
    "# Learning hyp\n",
    "batch_size,update_count = 2**14,500 # batchsize / number of updates\n",
    "lr = 1e-5\n",
    "epsilon = 1e-2\n",
    "# SAC\n",
    "gamma = 0.99 # discount 0.99\n",
    "alpha_q,alpha_pi = 1.0,1.0\n",
    "polyak = 0.995 # 0.995\n",
    "# Buffer\n",
    "buffer_sz_long,buffer_sz_short = 1e5,1e4\n",
    "# Temperature % epsilon greediness \n",
    "temp_min,temp_max = 1.0,1.0\n",
    "eps_greedy = 0.1\n",
    "# Logger path\n",
    "txt_path = '../log/%s/log_%s.txt'%(\n",
    "    expname,datetime.datetime.now().strftime(\"%b-%d-%Y-%H:%M:%S\"))\n",
    "# Restore\n",
    "npz_path_restore = '' "
   ]
  },
  {
   "cell_type": "markdown",
   "metadata": {},
   "source": [
    "### Train"
   ]
  },
  {
   "cell_type": "code",
   "execution_count": 3,
   "metadata": {},
   "outputs": [],
   "source": [
    "args = {'expname':expname,'n_cpu':n_cpu,'n_workers':n_workers,\n",
    "        'total_steps':total_steps,'burnin_steps':burnin_steps,\n",
    "        'evaluate_every':evaluate_every,'print_every':print_every,\n",
    "        'action_length':action_length,'action_length_eval':action_length_eval,\n",
    "        'ep_len_rollout':ep_len_rollout,\n",
    "        'hdims':hdims,'actv':actv,\n",
    "        'red_list_train':red_list_train,\n",
    "        'red_list_eval':red_list_eval,'num_eval':num_eval,'max_ep_len_eval':max_ep_len_eval,\n",
    "        'batch_size':batch_size,'update_count':update_count,\n",
    "        'lr':lr,'epsilon':epsilon,'gamma':gamma,\n",
    "        'alpha_q':alpha_q,'alpha_pi':alpha_pi,'polyak':polyak,\n",
    "        'buffer_sz_long':buffer_sz_long,'buffer_sz_short':buffer_sz_short,\n",
    "        'temp_min':temp_min,'temp_max':temp_max,'eps_greedy':eps_greedy,\n",
    "        'txt_path':txt_path,'npz_path_restore':npz_path_restore}"
   ]
  },
  {
   "cell_type": "code",
   "execution_count": null,
   "metadata": {
    "scrolled": true
   },
   "outputs": [
    {
     "name": "stdout",
     "output_type": "stream",
     "text": [
      "../log/sac_adt_cont_b/log_Jul-16-2020-03:44:35.txt\n",
      "[../log/sac_adt_cont_b] created.\n",
      "[../log/sac_adt_cont_b/log_Jul-16-2020-03:44:35.txt] created.\n"
     ]
    },
    {
     "name": "stderr",
     "output_type": "stream",
     "text": [
      "2020-07-16 03:44:36,220\tINFO resource_spec.py:212 -- Starting Ray with 140.14 GiB memory available for workers and up to 64.07 GiB for objects. You can adjust these settings with ray.init(memory=<bytes>, object_store_memory=<bytes>).\n",
      "2020-07-16 03:44:36,334\tWARNING services.py:923 -- Redis failed to start, retrying now.\n",
      "2020-07-16 03:44:36,448\tWARNING services.py:923 -- Redis failed to start, retrying now.\n",
      "2020-07-16 03:44:36,672\tWARNING services.py:923 -- Redis failed to start, retrying now.\n",
      "2020-07-16 03:44:36,869\tINFO services.py:1165 -- View the Ray dashboard at \u001b[1m\u001b[32mlocalhost:8266\u001b[39m\u001b[22m\n"
     ]
    },
    {
     "name": "stdout",
     "output_type": "stream",
     "text": [
      "RAY initialized with [30] cpus and [30] workers.\n",
      "\u001b[2m\u001b[36m(pid=124150)\u001b[0m \n",
      "\u001b[2m\u001b[36m(pid=124150)\u001b[0m \n",
      "\u001b[2m\u001b[36m(pid=124150)\u001b[0m      JSBSim Flight Dynamics Model v1.1.0.dev1 Jul 11 2020 05:35:14\n",
      "\u001b[2m\u001b[36m(pid=124126)\u001b[0m \n",
      "\u001b[2m\u001b[36m(pid=124126)\u001b[0m \n",
      "\u001b[2m\u001b[36m(pid=124126)\u001b[0m      JSBSim Flight Dynamics Model v1.1.0.dev1 Jul 11 2020 05:35:14\n",
      "\u001b[2m\u001b[36m(pid=124143)\u001b[0m \n",
      "\u001b[2m\u001b[36m(pid=124143)\u001b[0m \n",
      "\u001b[2m\u001b[36m(pid=124143)\u001b[0m      JSBSim Flight Dynamics Model v1.1.0.dev1 Jul 11 2020 05:35:14\n",
      "\u001b[2m\u001b[36m(pid=124128)\u001b[0m \n",
      "\u001b[2m\u001b[36m(pid=124128)\u001b[0m \n",
      "\u001b[2m\u001b[36m(pid=124128)\u001b[0m      JSBSim Flight Dynamics Model v1.1.0.dev1 Jul 11 2020 05:35:14\n",
      "\u001b[2m\u001b[36m(pid=124134)\u001b[0m \n",
      "\u001b[2m\u001b[36m(pid=124134)\u001b[0m \n",
      "\u001b[2m\u001b[36m(pid=124134)\u001b[0m      JSBSim Flight Dynamics Model v1.1.0.dev1 Jul 11 2020 05:35:14\n",
      "\u001b[2m\u001b[36m(pid=124135)\u001b[0m \n",
      "\u001b[2m\u001b[36m(pid=124135)\u001b[0m \n",
      "\u001b[2m\u001b[36m(pid=124135)\u001b[0m      JSBSim Flight Dynamics Model v1.1.0.dev1 Jul 11 2020 05:35:14\n",
      "\u001b[2m\u001b[36m(pid=124146)\u001b[0m \n",
      "\u001b[2m\u001b[36m(pid=124146)\u001b[0m \n",
      "\u001b[2m\u001b[36m(pid=124146)\u001b[0m      JSBSim Flight Dynamics Model v1.1.0.dev1 Jul 11 2020 05:35:14\n",
      "\u001b[2m\u001b[36m(pid=124131)\u001b[0m \n",
      "\u001b[2m\u001b[36m(pid=124131)\u001b[0m \n",
      "\u001b[2m\u001b[36m(pid=124131)\u001b[0m      JSBSim Flight Dynamics Model v1.1.0.dev1 Jul 11 2020 05:35:14\n",
      "\u001b[2m\u001b[36m(pid=124133)\u001b[0m \n",
      "\u001b[2m\u001b[36m(pid=124133)\u001b[0m \n",
      "\u001b[2m\u001b[36m(pid=124133)\u001b[0m      JSBSim Flight Dynamics Model v1.1.0.dev1 Jul 11 2020 05:35:14\n",
      "\u001b[2m\u001b[36m(pid=124139)\u001b[0m \n",
      "\u001b[2m\u001b[36m(pid=124139)\u001b[0m \n",
      "\u001b[2m\u001b[36m(pid=124139)\u001b[0m      JSBSim Flight Dynamics Model v1.1.0.dev1 Jul 11 2020 05:35:14\n",
      "\u001b[2m\u001b[36m(pid=124145)\u001b[0m \n",
      "\u001b[2m\u001b[36m(pid=124145)\u001b[0m \n",
      "\u001b[2m\u001b[36m(pid=124145)\u001b[0m      JSBSim Flight Dynamics Model v1.1.0.dev1 Jul 11 2020 05:35:14\n",
      "\u001b[2m\u001b[36m(pid=124122)\u001b[0m \n",
      "\u001b[2m\u001b[36m(pid=124122)\u001b[0m \n",
      "\u001b[2m\u001b[36m(pid=124122)\u001b[0m      JSBSim Flight Dynamics Model v1.1.0.dev1 Jul 11 2020 05:35:14\n",
      "\u001b[2m\u001b[36m(pid=124140)\u001b[0m \n",
      "\u001b[2m\u001b[36m(pid=124140)\u001b[0m \n",
      "\u001b[2m\u001b[36m(pid=124140)\u001b[0m      JSBSim Flight Dynamics Model v1.1.0.dev1 Jul 11 2020 05:35:14\n",
      "\u001b[2m\u001b[36m(pid=124137)\u001b[0m \n",
      "\u001b[2m\u001b[36m(pid=124137)\u001b[0m \n",
      "\u001b[2m\u001b[36m(pid=124137)\u001b[0m      JSBSim Flight Dynamics Model v1.1.0.dev1 Jul 11 2020 05:35:14\n",
      "\u001b[2m\u001b[36m(pid=124147)\u001b[0m \n",
      "\u001b[2m\u001b[36m(pid=124147)\u001b[0m \n",
      "\u001b[2m\u001b[36m(pid=124147)\u001b[0m      JSBSim Flight Dynamics Model v1.1.0.dev1 Jul 11 2020 05:35:14\n",
      "\u001b[2m\u001b[36m(pid=124123)\u001b[0m \n",
      "\u001b[2m\u001b[36m(pid=124123)\u001b[0m \n",
      "\u001b[2m\u001b[36m(pid=124123)\u001b[0m      JSBSim Flight Dynamics Model v1.1.0.dev1 Jul 11 2020 05:35:14\n",
      "\u001b[2m\u001b[36m(pid=124136)\u001b[0m \n",
      "\u001b[2m\u001b[36m(pid=124136)\u001b[0m \n",
      "\u001b[2m\u001b[36m(pid=124136)\u001b[0m      JSBSim Flight Dynamics Model v1.1.0.dev1 Jul 11 2020 05:35:14\n",
      "\u001b[2m\u001b[36m(pid=124121)\u001b[0m \n",
      "\u001b[2m\u001b[36m(pid=124121)\u001b[0m \n",
      "\u001b[2m\u001b[36m(pid=124121)\u001b[0m      JSBSim Flight Dynamics Model v1.1.0.dev1 Jul 11 2020 05:35:14\n",
      "\u001b[2m\u001b[36m(pid=124129)\u001b[0m \n",
      "\u001b[2m\u001b[36m(pid=124129)\u001b[0m \n",
      "\u001b[2m\u001b[36m(pid=124129)\u001b[0m      JSBSim Flight Dynamics Model v1.1.0.dev1 Jul 11 2020 05:35:14\n",
      "\u001b[2m\u001b[36m(pid=124142)\u001b[0m \n",
      "\u001b[2m\u001b[36m(pid=124142)\u001b[0m \n",
      "\u001b[2m\u001b[36m(pid=124142)\u001b[0m      JSBSim Flight Dynamics Model v1.1.0.dev1 Jul 11 2020 05:35:14\n",
      "\u001b[2m\u001b[36m(pid=124144)\u001b[0m \n",
      "\u001b[2m\u001b[36m(pid=124144)\u001b[0m \n",
      "\u001b[2m\u001b[36m(pid=124144)\u001b[0m      JSBSim Flight Dynamics Model v1.1.0.dev1 Jul 11 2020 05:35:14\n",
      "\u001b[2m\u001b[36m(pid=124125)\u001b[0m \n",
      "\u001b[2m\u001b[36m(pid=124125)\u001b[0m \n",
      "\u001b[2m\u001b[36m(pid=124125)\u001b[0m      JSBSim Flight Dynamics Model v1.1.0.dev1 Jul 11 2020 05:35:14\n",
      "\u001b[2m\u001b[36m(pid=124141)\u001b[0m \n",
      "\u001b[2m\u001b[36m(pid=124141)\u001b[0m \n",
      "\u001b[2m\u001b[36m(pid=124141)\u001b[0m      JSBSim Flight Dynamics Model v1.1.0.dev1 Jul 11 2020 05:35:14\n",
      "\u001b[2m\u001b[36m(pid=124148)\u001b[0m \n",
      "\u001b[2m\u001b[36m(pid=124148)\u001b[0m \n",
      "\u001b[2m\u001b[36m(pid=124148)\u001b[0m      JSBSim Flight Dynamics Model v1.1.0.dev1 Jul 11 2020 05:35:14\n",
      "\u001b[2m\u001b[36m(pid=124152)\u001b[0m \n",
      "\u001b[2m\u001b[36m(pid=124152)\u001b[0m \n",
      "\u001b[2m\u001b[36m(pid=124152)\u001b[0m      JSBSim Flight Dynamics Model v1.1.0.dev1 Jul 11 2020 05:35:14\n",
      "\u001b[2m\u001b[36m(pid=124149)\u001b[0m \n",
      "\u001b[2m\u001b[36m(pid=124149)\u001b[0m \n",
      "\u001b[2m\u001b[36m(pid=124149)\u001b[0m      JSBSim Flight Dynamics Model v1.1.0.dev1 Jul 11 2020 05:35:14\n",
      "\u001b[2m\u001b[36m(pid=124138)\u001b[0m \n",
      "\u001b[2m\u001b[36m(pid=124138)\u001b[0m \n",
      "\u001b[2m\u001b[36m(pid=124138)\u001b[0m      JSBSim Flight Dynamics Model v1.1.0.dev1 Jul 11 2020 05:35:14\n",
      "\u001b[2m\u001b[36m(pid=124127)\u001b[0m \n",
      "\u001b[2m\u001b[36m(pid=124127)\u001b[0m \n",
      "\u001b[2m\u001b[36m(pid=124127)\u001b[0m      JSBSim Flight Dynamics Model v1.1.0.dev1 Jul 11 2020 05:35:14\n",
      "\u001b[2m\u001b[36m(pid=124130)\u001b[0m \n",
      "\u001b[2m\u001b[36m(pid=124130)\u001b[0m \n",
      "\u001b[2m\u001b[36m(pid=124130)\u001b[0m      JSBSim Flight Dynamics Model v1.1.0.dev1 Jul 11 2020 05:35:14\n",
      "\u001b[2m\u001b[36m(pid=124151)\u001b[0m \n",
      "\u001b[2m\u001b[36m(pid=124151)\u001b[0m \n",
      "\u001b[2m\u001b[36m(pid=124151)\u001b[0m      JSBSim Flight Dynamics Model v1.1.0.dev1 Jul 11 2020 05:35:14\n",
      "\u001b[2m\u001b[36m(pid=124150)\u001b[0m Ray Worker [1] Ready.\n",
      "\u001b[2m\u001b[36m(pid=124143)\u001b[0m Ray Worker [7] Ready.\n",
      "\u001b[2m\u001b[36m(pid=124128)\u001b[0m Ray Worker [18] Ready.\n",
      "\u001b[2m\u001b[36m(pid=124131)\u001b[0m Ray Worker [9] Ready.\n",
      "\u001b[2m\u001b[36m(pid=124126)\u001b[0m Ray Worker [15] Ready.\n",
      "\u001b[2m\u001b[36m(pid=124146)\u001b[0m Ray Worker [3] Ready.\n",
      "\u001b[2m\u001b[36m(pid=124121)\u001b[0m Ray Worker [28] Ready.\n",
      "\u001b[2m\u001b[36m(pid=124134)\u001b[0m Ray Worker [11] Ready.\n",
      "\u001b[2m\u001b[36m(pid=124148)\u001b[0m Ray Worker [26] Ready.\n",
      "\u001b[2m\u001b[36m(pid=124135)\u001b[0m Ray Worker [6] Ready.\n",
      "\u001b[2m\u001b[36m(pid=124133)\u001b[0m Ray Worker [21] Ready.\n",
      "\u001b[2m\u001b[36m(pid=124145)\u001b[0m Ray Worker [22] Ready.\n",
      "\u001b[2m\u001b[36m(pid=124122)\u001b[0m Ray Worker [16] Ready.\n",
      "\u001b[2m\u001b[36m(pid=124147)\u001b[0m Ray Worker [5] Ready.\n",
      "\u001b[2m\u001b[36m(pid=124127)\u001b[0m Ray Worker [19] Ready.\n",
      "\u001b[2m\u001b[36m(pid=124123)\u001b[0m Ray Worker [13] Ready.\n",
      "\u001b[2m\u001b[36m(pid=124142)\u001b[0m Ray Worker [24] Ready.\n",
      "\u001b[2m\u001b[36m(pid=124152)\u001b[0m Ray Worker [2] Ready.\n",
      "\u001b[2m\u001b[36m(pid=124139)\u001b[0m Ray Worker [25] Ready.\n",
      "\u001b[2m\u001b[36m(pid=124151)\u001b[0m Ray Worker [27] Ready.\n",
      "\u001b[2m\u001b[36m(pid=124140)\u001b[0m Ray Worker [17] Ready.\n",
      "\u001b[2m\u001b[36m(pid=124136)\u001b[0m Ray Worker [14] Ready.\n",
      "\u001b[2m\u001b[36m(pid=124129)\u001b[0m Ray Worker [20] Ready.\n",
      "\u001b[2m\u001b[36m(pid=124130)\u001b[0m Ray Worker [8] Ready.\n",
      "\u001b[2m\u001b[36m(pid=124144)\u001b[0m Ray Worker [23] Ready.\n",
      "\u001b[2m\u001b[36m(pid=124149)\u001b[0m Ray Worker [0] Ready.\n",
      "\u001b[2m\u001b[36m(pid=124138)\u001b[0m Ray Worker [4] Ready.\n",
      "\u001b[2m\u001b[36m(pid=124137)\u001b[0m Ray Worker [12] Ready.\n",
      "\u001b[2m\u001b[36m(pid=124125)\u001b[0m Ray Worker [10] Ready.\n",
      "\u001b[2m\u001b[36m(pid=124141)\u001b[0m Ray Worker [29] Ready.\n",
      "[6/50000] n_env_step:[2.7e+05] rollout:[94.2]s update:[8.3]s r_avg:[-0.0154] avg_q:[0.205].\n",
      "[Eval. start] step:[6/50000][0.0%] #step:[2.7e+05] time:[day:[01] 00:09:44] ram:[20.0%].\n",
      " [0/28] [zombie] ep_ret:[0.2663] ep_len:[3001]. blue health:[1.00] red health:[1.00]\n",
      " [1/28] [rosie] ep_ret:[26.8522] ep_len:[3001]. blue health:[1.00] red health:[0.74]\n",
      " [2/28] [bud] ep_ret:[0.6927] ep_len:[3001]. blue health:[1.00] red health:[1.00]\n",
      " [3/28] [bud_fsm] ep_ret:[-0.2223] ep_len:[3001]. blue health:[1.00] red health:[1.00]\n",
      " [4/28] [es_trial2] ep_ret:[9.5495] ep_len:[3001]. blue health:[1.00] red health:[0.92]\n",
      " [5/28] [es_trial3_scrimmage4] ep_ret:[-100.4655] ep_len:[602]. blue health:[0.00] red health:[1.00]\n",
      " [6/28] [expert_system] ep_ret:[-101.2066] ep_len:[1542]. blue health:[0.00] red health:[1.00]\n",
      " [7/28] [zombie] ep_ret:[0.7511] ep_len:[3001]. blue health:[1.00] red health:[1.00]\n",
      " [8/28] [rosie] ep_ret:[3.0291] ep_len:[3001]. blue health:[1.00] red health:[0.99]\n",
      " [9/28] [bud] ep_ret:[0.5994] ep_len:[3001]. blue health:[1.00] red health:[1.00]\n",
      " [10/28] [bud_fsm] ep_ret:[100.2431] ep_len:[575]. blue health:[1.00] red health:[0.00]\n",
      " [11/28] [es_trial2] ep_ret:[33.6081] ep_len:[3001]. blue health:[1.00] red health:[0.67]\n",
      " [12/28] [es_trial3_scrimmage4] ep_ret:[-20.8739] ep_len:[3001]. blue health:[0.80] red health:[1.00]\n",
      " [13/28] [expert_system] ep_ret:[-100.4343] ep_len:[1216]. blue health:[0.00] red health:[1.00]\n",
      " [14/28] [zombie] ep_ret:[28.0050] ep_len:[3001]. blue health:[1.00] red health:[0.73]\n",
      " [15/28] [rosie] ep_ret:[0.8246] ep_len:[3001]. blue health:[1.00] red health:[1.00]\n",
      " [16/28] [bud] ep_ret:[0.6506] ep_len:[3001]. blue health:[1.00] red health:[1.00]\n",
      " [17/28] [bud_fsm] ep_ret:[87.9810] ep_len:[3001]. blue health:[1.00] red health:[0.13]\n",
      " [18/28] [es_trial2] ep_ret:[-0.4252] ep_len:[3001]. blue health:[0.99] red health:[1.00]\n",
      " [19/28] [es_trial3_scrimmage4] ep_ret:[-0.8450] ep_len:[3001]. blue health:[1.00] red health:[1.00]\n",
      " [20/28] [expert_system] ep_ret:[1.6144] ep_len:[3001]. blue health:[1.00] red health:[1.00]\n",
      " [21/28] [zombie] ep_ret:[1.2453] ep_len:[3001]. blue health:[1.00] red health:[1.00]\n",
      " [22/28] [rosie] ep_ret:[20.2141] ep_len:[3001]. blue health:[1.00] red health:[0.81]\n",
      " [23/28] [bud] ep_ret:[-0.0120] ep_len:[3001]. blue health:[1.00] red health:[1.00]\n",
      " [24/28] [bud_fsm] ep_ret:[0.8195] ep_len:[3001]. blue health:[1.00] red health:[1.00]\n",
      " [25/28] [es_trial2] ep_ret:[101.2857] ep_len:[2532]. blue health:[1.00] red health:[0.00]\n",
      " [26/28] [es_trial3_scrimmage4] ep_ret:[-100.4586] ep_len:[510]. blue health:[0.00] red health:[1.00]\n",
      " [27/28] [expert_system] ep_ret:[-100.5768] ep_len:[1951]. blue health:[0.00] red health:[1.00]\n",
      "[Eval. done] time:[day:[01] 00:12:53] ep_ret_avg:[-3.832].\n",
      "\n"
     ]
    },
    {
     "name": "stdout",
     "output_type": "stream",
     "text": [
      "[../data/net/sac_adt_cont_b] created.\n",
      "[../data/net/sac_adt_cont_b/model_and_buffers_6.npz] saved.\n"
     ]
    }
   ],
   "source": [
    "train(**args)"
   ]
  },
  {
   "cell_type": "code",
   "execution_count": null,
   "metadata": {},
   "outputs": [],
   "source": []
  }
 ],
 "metadata": {
  "kernelspec": {
   "display_name": "Python 3",
   "language": "python",
   "name": "python3"
  },
  "language_info": {
   "codemirror_mode": {
    "name": "ipython",
    "version": 3
   },
   "file_extension": ".py",
   "mimetype": "text/x-python",
   "name": "python",
   "nbconvert_exporter": "python",
   "pygments_lexer": "ipython3",
   "version": "3.6.9"
  }
 },
 "nbformat": 4,
 "nbformat_minor": 4
}
