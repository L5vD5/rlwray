{
 "cells": [
  {
   "cell_type": "markdown",
   "metadata": {},
   "source": [
    "# Random Blank Notebook"
   ]
  },
  {
   "cell_type": "code",
   "execution_count": 2,
   "metadata": {},
   "outputs": [
    {
     "name": "stdout",
     "output_type": "stream",
     "text": [
      "Packaged loaded. TF version is [1.15.0].\n"
     ]
    }
   ],
   "source": [
    "import gym\n",
    "import numpy as np\n",
    "import tensorflow as tf\n",
    "from episci.environment_wrappers.tactical_action_adt_env_continuous import CustomADTEnvContinuous\n",
    "from episci.environment_wrappers.tactical_action_adt_env_discrete import CustomADTEnvDiscrete\n",
    "from episci.agents.utils.constants import Agents,RewardType\n",
    "\n",
    "from util import OnlineMeanVariance,arr2idx,idx2arr\n",
    "\n",
    "print (\"Packaged loaded. TF version is [%s].\"%(tf.__version__))"
   ]
  },
  {
   "cell_type": "code",
   "execution_count": null,
   "metadata": {},
   "outputs": [],
   "source": []
  },
  {
   "cell_type": "markdown",
   "metadata": {},
   "source": [
    "### ADT Discrete Environment"
   ]
  },
  {
   "cell_type": "code",
   "execution_count": 2,
   "metadata": {},
   "outputs": [],
   "source": [
    "env_config = {\n",
    "    \"red_distribution\": None,\n",
    "    \"reward_type\": RewardType.SHAPED\n",
    "}\n",
    "action_length = 5\n",
    "env = CustomADTEnvDiscrete(env_config=env_config,action_length=action_length)"
   ]
  },
  {
   "cell_type": "code",
   "execution_count": 3,
   "metadata": {},
   "outputs": [],
   "source": [
    "a = env.action_space.sample() # [0,0,0,0] ~ [3,3,2,2] => 4*4*3*3 = 144"
   ]
  },
  {
   "cell_type": "code",
   "execution_count": null,
   "metadata": {},
   "outputs": [],
   "source": []
  },
  {
   "cell_type": "markdown",
   "metadata": {},
   "source": [
    "### Discrete to Multi-discrete representations"
   ]
  },
  {
   "cell_type": "code",
   "execution_count": 18,
   "metadata": {
    "scrolled": false
   },
   "outputs": [
    {
     "name": "stdout",
     "output_type": "stream",
     "text": [
      "idx:[0] => arr:[0 0 0] \n",
      "idx:[1] => arr:[0 0 1] \n",
      "idx:[2] => arr:[0 1 0] \n",
      "idx:[3] => arr:[0 1 1] \n",
      "idx:[4] => arr:[0 2 0] \n",
      "idx:[5] => arr:[0 2 1] \n",
      "idx:[6] => arr:[1 0 0] \n",
      "idx:[7] => arr:[1 0 1] \n",
      "idx:[8] => arr:[1 1 0] \n",
      "idx:[9] => arr:[1 1 1] \n",
      "idx:[10] => arr:[1 2 0] \n",
      "idx:[11] => arr:[1 2 1] \n",
      "idx:[12] => arr:[2 0 0] \n",
      "idx:[13] => arr:[2 0 1] \n",
      "idx:[14] => arr:[2 1 0] \n",
      "idx:[15] => arr:[2 1 1] \n",
      "idx:[16] => arr:[2 2 0] \n",
      "idx:[17] => arr:[2 2 1] \n",
      "idx:[18] => arr:[3 0 0] \n",
      "idx:[19] => arr:[3 0 1] \n",
      "idx:[20] => arr:[3 1 0] \n",
      "idx:[21] => arr:[3 1 1] \n",
      "idx:[22] => arr:[3 2 0] \n",
      "idx:[23] => arr:[3 2 1] \n"
     ]
    }
   ],
   "source": [
    "md_info = np.array([4,3,2]) # multi discrete information\n",
    "n_comb = np.cumprod(md_info)[-1] # number of combinations\n",
    "for idx in range(n_comb):\n",
    "    arr = idx2arr(idx,md_info)\n",
    "    idx2 = arr2idx(arr,md_info)\n",
    "    if idx != idx2: print (\"Error [%d] is not [%d]\"%(idx,idx2)) # sanity check\n",
    "    print (\"idx:[%d] => arr:%s \"%(idx,arr))"
   ]
  },
  {
   "cell_type": "code",
   "execution_count": null,
   "metadata": {},
   "outputs": [],
   "source": []
  },
  {
   "cell_type": "markdown",
   "metadata": {},
   "source": [
    "### Vec to Multi-discrete representations"
   ]
  },
  {
   "cell_type": "code",
   "execution_count": 8,
   "metadata": {},
   "outputs": [
    {
     "name": "stdout",
     "output_type": "stream",
     "text": [
      "md_info: [4 3 2]\n",
      "a: [0.703 0.661 0.306 0.812 0.222 0.804 0.169 0.893 0.958]\n",
      "md_arr: [3 1 1]\n"
     ]
    }
   ],
   "source": [
    "np.set_printoptions(precision=3)\n",
    "md_info = np.array([4,3,2]) # multi discrete information\n",
    "\n",
    "# Set random action\n",
    "a = np.random.rand(np.sum(md_info))\n",
    "\n",
    "md_arr = np.zeros(len(md_info))\n",
    "md_cumsum = np.cumsum(md_info)\n",
    "for a_idx in range(len(md_info)): # for each discrete action\n",
    "    if a_idx == 0:\n",
    "        fr_idx = 0\n",
    "    else:\n",
    "        fr_idx = md_cumsum[a_idx-1]\n",
    "    to_idx = md_cumsum[a_idx]\n",
    "    md_arr[a_idx] = np.argmax(a[fr_idx:to_idx]) # argmax\n",
    "md_arr = md_arr.astype(np.int) # to integer\n",
    "\n",
    "# Print\n",
    "print (\"md_info: %s\"%(md_info))\n",
    "print (\"a: %s\"%(a))\n",
    "print (\"md_arr: %s\"%(md_arr))"
   ]
  },
  {
   "cell_type": "code",
   "execution_count": null,
   "metadata": {},
   "outputs": [],
   "source": []
  }
 ],
 "metadata": {
  "kernelspec": {
   "display_name": "Python 3",
   "language": "python",
   "name": "python3"
  },
  "language_info": {
   "codemirror_mode": {
    "name": "ipython",
    "version": 3
   },
   "file_extension": ".py",
   "mimetype": "text/x-python",
   "name": "python",
   "nbconvert_exporter": "python",
   "pygments_lexer": "ipython3",
   "version": "3.6.9"
  }
 },
 "nbformat": 4,
 "nbformat_minor": 4
}
