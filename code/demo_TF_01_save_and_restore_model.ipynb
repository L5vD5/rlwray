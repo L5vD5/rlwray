{
 "cells": [
  {
   "cell_type": "markdown",
   "metadata": {},
   "source": [
    "# Save and Restore Model"
   ]
  },
  {
   "cell_type": "code",
   "execution_count": 1,
   "metadata": {},
   "outputs": [
    {
     "name": "stdout",
     "output_type": "stream",
     "text": [
      "TF:[1.15.0]\n"
     ]
    }
   ],
   "source": [
    "import os\n",
    "import numpy as np\n",
    "import tensorflow as tf\n",
    "from util import suppress_tf_warning\n",
    "suppress_tf_warning()\n",
    "print (\"TF:[%s]\"%(tf.__version__))"
   ]
  },
  {
   "cell_type": "markdown",
   "metadata": {},
   "source": [
    "### Create Model"
   ]
  },
  {
   "cell_type": "code",
   "execution_count": 2,
   "metadata": {},
   "outputs": [],
   "source": [
    "def create_tf_model(xdim=10,ydim=2,hdims=[256,256],actv=tf.nn.relu,out_actv=None):\n",
    "    \"\"\"\n",
    "    Create TF model\n",
    "    \"\"\"\n",
    "    def mlp(x,hdims=[256,256],actv=tf.nn.relu,out_actv=None):\n",
    "        ki = tf.truncated_normal_initializer(stddev=0.1)\n",
    "        for hdim in hdims[:-1]:\n",
    "            x = tf.layers.dense(x,units=hdim,activation=actv,kernel_initializer=ki)\n",
    "        return tf.layers.dense(x,units=hdims[-1],\n",
    "                               activation=out_actv,kernel_initializer=ki)\n",
    "    def placeholder(dim=None):\n",
    "        return tf.placeholder(dtype=tf.float32,shape=(None,dim) if dim else (None,))\n",
    "    def placeholders(*args):\n",
    "        \"\"\"\n",
    "        Usage: a_ph,b_ph,c_ph = placeholders(adim,bdim,None)\n",
    "        \"\"\"\n",
    "        return [placeholder(dim) for dim in args]\n",
    "    def get_vars(scope):\n",
    "        return [x for x in tf.compat.v1.global_variables() if scope in x.name]\n",
    "    # Have own session\n",
    "    config = tf.ConfigProto()\n",
    "    config.gpu_options.allow_growth = True\n",
    "    sess = tf.Session(config=config)\n",
    "    # Placeholder\n",
    "    x_ph = placeholder(xdim)\n",
    "    # Model\n",
    "    with tf.variable_scope('main'):\n",
    "        y = mlp(x_ph,hdims=hdims+[ydim],actv=actv,out_actv=out_actv)\n",
    "    # Params\n",
    "    main_vars = get_vars('main')\n",
    "    model = {'x_ph':x_ph,'y':y,'main_vars':main_vars}\n",
    "    return model, sess\n",
    "\n",
    "def save_tf_model(npz_path,M,VERBOSE=True):\n",
    "    \"\"\"\n",
    "    Save TF model weights \n",
    "    \"\"\"\n",
    "    # TF model\n",
    "    tf_vars = M.model['main_vars'] \n",
    "    data2save,var_names,var_vals = dict(),[],[]\n",
    "    for v_idx,tf_var in enumerate(tf_vars):\n",
    "        var_name,var_val = tf_var.name,M.sess.run(tf_var)\n",
    "        var_names.append(var_name)\n",
    "        var_vals.append(var_val)\n",
    "        data2save[var_name] = var_val\n",
    "        if VERBOSE:\n",
    "            print (\"[%02d]  var_name:[%s]  var_shape:%s\"%\n",
    "                (v_idx,var_name,var_val.shape,)) \n",
    "    # Create folder if not exist\n",
    "    dir_name = os.path.dirname(npz_path)\n",
    "    if not os.path.exists(dir_name):\n",
    "        os.makedirs(dir_name)\n",
    "        print (\"[%s] created.\"%(dir_name))\n",
    "    # Save npz\n",
    "    np.savez(npz_path,**data2save)\n",
    "    print (\"[%s] saved.\"%(npz_path))\n",
    "    \n",
    "def restore_tf_model(npz_path,M,VERBOSE=True):\n",
    "    \"\"\"\n",
    "    Restore TF model weights\n",
    "    \"\"\"\n",
    "    # Load npz\n",
    "    l = np.load(npz_path)\n",
    "    print (\"[%s] loaded.\"%(npz_path))\n",
    "    \n",
    "    # Get values of TF model  \n",
    "    tf_vars = M.model['main_vars'] \n",
    "    var_vals = []\n",
    "    for tf_var in tf_vars:\n",
    "        var_vals.append(l[tf_var.name])   \n",
    "        \n",
    "    # Assign weights of ARS model\n",
    "    M.set_weights(var_vals)"
   ]
  },
  {
   "cell_type": "markdown",
   "metadata": {},
   "source": [
    "### Model Class"
   ]
  },
  {
   "cell_type": "code",
   "execution_count": 3,
   "metadata": {},
   "outputs": [],
   "source": [
    "class ModelClass(object):\n",
    "    \"\"\"\n",
    "    TF Model\n",
    "    \"\"\"\n",
    "    def __init__(self,xdim=10,ydim=2,hdims=[256,256],actv=tf.nn.relu,out_actv=None,\n",
    "                 seed=0):\n",
    "        self.seed = seed\n",
    "        self.xdim,self.ydim = xdim,ydim\n",
    "        self.model,self.sess = create_tf_model(\n",
    "            xdim=xdim,ydim=ydim,hdims=hdims,actv=actv,out_actv=out_actv)\n",
    "        # Initialize model \n",
    "        tf.set_random_seed(self.seed)\n",
    "        np.random.seed(self.seed)\n",
    "        self.sess.run(tf.global_variables_initializer())\n",
    "        # Flag to initialize assign operations for 'set_weights()'\n",
    "        self.FIRST_SET_FLAG = True\n",
    "    def get_weights(self):\n",
    "        weight_vals = self.sess.run(self.model['main_vars'])\n",
    "        return weight_vals\n",
    "    def set_weights(self,weight_vals):\n",
    "        if self.FIRST_SET_FLAG:\n",
    "            self.FIRST_SET_FLAG = False\n",
    "            self.assign_placeholders = []\n",
    "            self.assign_ops = []\n",
    "            for w_idx,weight_tf_var in enumerate(self.model['main_vars']):\n",
    "                a = weight_tf_var\n",
    "                assign_placeholder = tf.placeholder(a.dtype, shape=a.get_shape())\n",
    "                assign_op = a.assign(assign_placeholder)\n",
    "                self.assign_placeholders.append(assign_placeholder)\n",
    "                self.assign_ops.append(assign_op)\n",
    "        for w_idx,weight_tf_var in enumerate(self.model['main_vars']):\n",
    "            self.sess.run(self.assign_ops[w_idx],\n",
    "                          {self.assign_placeholders[w_idx]:weight_vals[w_idx]})"
   ]
  },
  {
   "cell_type": "code",
   "execution_count": null,
   "metadata": {},
   "outputs": [],
   "source": []
  },
  {
   "cell_type": "markdown",
   "metadata": {},
   "source": [
    "### Create Model"
   ]
  },
  {
   "cell_type": "code",
   "execution_count": 4,
   "metadata": {},
   "outputs": [],
   "source": [
    "tf.reset_default_graph()\n",
    "M = ModelClass()"
   ]
  },
  {
   "cell_type": "markdown",
   "metadata": {},
   "source": [
    "### Get the output of the model of a random input"
   ]
  },
  {
   "cell_type": "code",
   "execution_count": 5,
   "metadata": {},
   "outputs": [
    {
     "name": "stdout",
     "output_type": "stream",
     "text": [
      "[[-0.00717899 -0.04945676]]\n"
     ]
    }
   ],
   "source": [
    "np.random.seed(1)\n",
    "x_rand = np.random.rand(M.xdim)\n",
    "y_out_1 = M.sess.run(M.model['y'],feed_dict={M.model['x_ph']:x_rand.reshape((1,-1))})\n",
    "print (y_out_1)"
   ]
  },
  {
   "cell_type": "markdown",
   "metadata": {},
   "source": [
    "### Save model"
   ]
  },
  {
   "cell_type": "code",
   "execution_count": 6,
   "metadata": {},
   "outputs": [
    {
     "name": "stdout",
     "output_type": "stream",
     "text": [
      "[00]  var_name:[main/dense/kernel:0]  var_shape:(10, 256)\n",
      "[01]  var_name:[main/dense/bias:0]  var_shape:(256,)\n",
      "[02]  var_name:[main/dense_1/kernel:0]  var_shape:(256, 256)\n",
      "[03]  var_name:[main/dense_1/bias:0]  var_shape:(256,)\n",
      "[04]  var_name:[main/dense_2/kernel:0]  var_shape:(256, 2)\n",
      "[05]  var_name:[main/dense_2/bias:0]  var_shape:(2,)\n",
      "[../data/net/toy_model/net.npz] saved.\n"
     ]
    }
   ],
   "source": [
    "npz_path = '../data/net/toy_model/net.npz'\n",
    "save_tf_model(npz_path,M,VERBOSE=True)"
   ]
  },
  {
   "cell_type": "markdown",
   "metadata": {},
   "source": [
    "### Re-initialize weights and get the otutput"
   ]
  },
  {
   "cell_type": "code",
   "execution_count": 7,
   "metadata": {},
   "outputs": [
    {
     "name": "stdout",
     "output_type": "stream",
     "text": [
      "[[ 0.18526612 -0.08723448]]\n"
     ]
    }
   ],
   "source": [
    "M.sess.run(tf.global_variables_initializer())\n",
    "y_out_2 = M.sess.run(M.model['y'],feed_dict={M.model['x_ph']:x_rand.reshape((1,-1))})\n",
    "print (y_out_2)"
   ]
  },
  {
   "cell_type": "markdown",
   "metadata": {},
   "source": [
    "### Restore the model and get the output"
   ]
  },
  {
   "cell_type": "code",
   "execution_count": 8,
   "metadata": {},
   "outputs": [
    {
     "name": "stdout",
     "output_type": "stream",
     "text": [
      "[../data/net/toy_model/net.npz] loaded.\n",
      "[[-0.00717899 -0.04945676]]\n"
     ]
    }
   ],
   "source": [
    "restore_tf_model(npz_path,M,VERBOSE=True)\n",
    "y_out_3 = M.sess.run(M.model['y'],feed_dict={M.model['x_ph']:x_rand.reshape((1,-1))})\n",
    "print (y_out_3)"
   ]
  },
  {
   "cell_type": "markdown",
   "metadata": {},
   "source": [
    "### y_1 and y_3 should be the same"
   ]
  },
  {
   "cell_type": "code",
   "execution_count": 9,
   "metadata": {},
   "outputs": [
    {
     "name": "stdout",
     "output_type": "stream",
     "text": [
      "y_out_1: [[-0.00717899 -0.04945676]]\n",
      "y_out_2: [[ 0.18526612 -0.08723448]]\n",
      "y_out_3: [[-0.00717899 -0.04945676]]\n"
     ]
    }
   ],
   "source": [
    "print ('y_out_1:',y_out_1)\n",
    "print ('y_out_2:',y_out_2)\n",
    "print ('y_out_3:',y_out_3)"
   ]
  },
  {
   "cell_type": "code",
   "execution_count": null,
   "metadata": {},
   "outputs": [],
   "source": []
  }
 ],
 "metadata": {
  "kernelspec": {
   "display_name": "Python 3",
   "language": "python",
   "name": "python3"
  },
  "language_info": {
   "codemirror_mode": {
    "name": "ipython",
    "version": 3
   },
   "file_extension": ".py",
   "mimetype": "text/x-python",
   "name": "python",
   "nbconvert_exporter": "python",
   "pygments_lexer": "ipython3",
   "version": "3.6.9"
  }
 },
 "nbformat": 4,
 "nbformat_minor": 4
}
