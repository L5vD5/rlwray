{
 "cells": [
  {
   "cell_type": "markdown",
   "metadata": {},
   "source": [
    "### ARS Evaluation"
   ]
  },
  {
   "cell_type": "code",
   "execution_count": 1,
   "metadata": {},
   "outputs": [
    {
     "name": "stdout",
     "output_type": "stream",
     "text": [
      "Packaged loaded. TF version is [1.15.0].\n"
     ]
    }
   ],
   "source": [
    "import datetime,gym,time,os,psutil,ray\n",
    "import numpy as np\n",
    "import tensorflow as tf\n",
    "from util import gpu_sess,suppress_tf_warning,tic,toc,open_txt,write_txt,OnlineMeanVariance\n",
    "from ars import create_ars_model,get_noises_from_weights,save_ars_model,restore_ars_model\n",
    "np.set_printoptions(precision=2)\n",
    "suppress_tf_warning() # suppress warning \n",
    "gym.logger.set_level(40) # gym logger \n",
    "from episci.environment_wrappers.tactical_action_adt_env_continuous import CustomADTEnvContinuous\n",
    "from episci.agents.utils.constants import Agents,RewardType,StateInfo\n",
    "print (\"Packaged loaded. TF version is [%s].\"%(tf.__version__))"
   ]
  },
  {
   "cell_type": "markdown",
   "metadata": {},
   "source": [
    "### Configuration"
   ]
  },
  {
   "cell_type": "code",
   "execution_count": 12,
   "metadata": {},
   "outputs": [],
   "source": [
    "action_length = 5 # 50/5 = 10HZ\n",
    "hdims,actv,out_actv = [128,64],tf.nn.relu,tf.nn.tanh\n",
    "USE_NZD_OBS = False\n",
    "seed = 0"
   ]
  },
  {
   "cell_type": "markdown",
   "metadata": {},
   "source": [
    "### Rollout  Class"
   ]
  },
  {
   "cell_type": "code",
   "execution_count": 3,
   "metadata": {},
   "outputs": [],
   "source": [
    "class RolloutWorkerClass(object):\n",
    "    \"\"\"\n",
    "    Worker without RAY (for update purposes)\n",
    "    \"\"\"\n",
    "    def __init__(self,\n",
    "                 hdims=[64]*2,actv=tf.nn.relu,out_actv=tf.nn.tanh,\n",
    "                 seed=1,USE_NZD_OBS=True):\n",
    "        self.seed = seed\n",
    "        from util import suppress_tf_warning\n",
    "        suppress_tf_warning() # suppress TF warnings\n",
    "        self.env = get_env()\n",
    "        odim,adim = self.env.observation_space.shape[0],self.env.action_space.shape[0]\n",
    "        self.odim,self.adim = odim,adim\n",
    "        # Observation normalization\n",
    "        self.obs_mu = np.zeros(self.odim)\n",
    "        self.obs_std = np.ones(self.odim)\n",
    "        self.USE_NZD_OBS = USE_NZD_OBS\n",
    "        # ARS model \n",
    "        self.model,self.sess = create_ars_model(\n",
    "            odim=self.odim,adim=self.adim,hdims=hdims,\n",
    "            actv=actv,out_actv=out_actv)\n",
    "        # Initialize model \n",
    "        tf.set_random_seed(self.seed)\n",
    "        np.random.seed(self.seed)\n",
    "        self.sess.run(tf.global_variables_initializer())\n",
    "        # Flag to initialize assign operations for 'set_weights()'\n",
    "        self.FIRST_SET_FLAG = True\n",
    "    def set_observation_stats(self,obs_mu,obs_std):\n",
    "        self.obs_mu = obs_mu\n",
    "        self.obs_std = obs_std\n",
    "    def get_action(self,o):\n",
    "        obs_std = self.obs_std\n",
    "        obs_std[obs_std<1e-6] = np.inf\n",
    "        if self.USE_NZD_OBS:\n",
    "            nzd_o = (o-self.obs_mu)/obs_std\n",
    "        else:\n",
    "            nzd_o = o\n",
    "        return self.sess.run(\n",
    "            self.model['mu'],feed_dict={self.model['o_ph']:nzd_o.reshape(1,-1)})[0]\n",
    "    def get_weights(self):\n",
    "        weight_vals = self.sess.run(self.model['main_vars'])\n",
    "        return weight_vals\n",
    "    def set_weights(self,weight_vals):\n",
    "        if self.FIRST_SET_FLAG:\n",
    "            self.FIRST_SET_FLAG = False\n",
    "            self.assign_placeholders = []\n",
    "            self.assign_ops = []\n",
    "            for w_idx,weight_tf_var in enumerate(self.model['main_vars']):\n",
    "                a = weight_tf_var\n",
    "                assign_placeholder = tf.placeholder(a.dtype, shape=a.get_shape())\n",
    "                assign_op = a.assign(assign_placeholder)\n",
    "                self.assign_placeholders.append(assign_placeholder)\n",
    "                self.assign_ops.append(assign_op)\n",
    "        for w_idx,weight_tf_var in enumerate(self.model['main_vars']):\n",
    "            self.sess.run(self.assign_ops[w_idx],\n",
    "                          {self.assign_placeholders[w_idx]:weight_vals[w_idx]})"
   ]
  },
  {
   "cell_type": "code",
   "execution_count": 4,
   "metadata": {},
   "outputs": [],
   "source": [
    "def get_env(red_distribution=None):\n",
    "    from episci.environment_wrappers.tactical_action_adt_env_continuous import CustomADTEnvContinuous\n",
    "    from episci.agents.utils.constants import Agents, RewardType\n",
    "    env_config = {\n",
    "        \"red_distribution\": red_distribution,\n",
    "        \"reward_type\": RewardType.SHAPED\n",
    "    }\n",
    "    return CustomADTEnvContinuous(env_config,action_length=action_length)"
   ]
  },
  {
   "cell_type": "code",
   "execution_count": 5,
   "metadata": {},
   "outputs": [
    {
     "name": "stdout",
     "output_type": "stream",
     "text": [
      "Environment Ready. odim:[55] adim:[4].\n"
     ]
    }
   ],
   "source": [
    "env = get_env()\n",
    "adim,odim = env.action_space.shape[0],env.observation_space.shape[0]\n",
    "print (\"Environment Ready. odim:[%d] adim:[%d].\"%(odim,adim))"
   ]
  },
  {
   "cell_type": "code",
   "execution_count": 6,
   "metadata": {},
   "outputs": [],
   "source": [
    "mv = OnlineMeanVariance()"
   ]
  },
  {
   "cell_type": "code",
   "execution_count": 13,
   "metadata": {},
   "outputs": [],
   "source": [
    "tf.reset_default_graph()\n",
    "R = RolloutWorkerClass(hdims=hdims,actv=actv,out_actv=out_actv,seed=seed,USE_NZD_OBS=USE_NZD_OBS)"
   ]
  },
  {
   "cell_type": "markdown",
   "metadata": {},
   "source": [
    "### Restore"
   ]
  },
  {
   "cell_type": "code",
   "execution_count": 14,
   "metadata": {},
   "outputs": [
    {
     "name": "stdout",
     "output_type": "stream",
     "text": [
      "[../data/net/ars_adt_cont/model_30.npz] loaded.\n"
     ]
    }
   ],
   "source": [
    "npz_path = '../data/net/ars_adt_cont/model_30.npz'\n",
    "restore_ars_model(npz_path,R,VERBOSE=True)"
   ]
  },
  {
   "cell_type": "markdown",
   "metadata": {},
   "source": [
    "### Evaluate"
   ]
  },
  {
   "cell_type": "code",
   "execution_count": 15,
   "metadata": {},
   "outputs": [],
   "source": [
    "ep_len_rollout = 15000"
   ]
  },
  {
   "cell_type": "code",
   "execution_count": 16,
   "metadata": {},
   "outputs": [],
   "source": [
    "red = Agents.SPOT_RANDOM\n",
    "o,d,ep_ret,ep_len = env.reset(red=red),False,0,0\n",
    "while not(d or (ep_len == ep_len_rollout)):\n",
    "    a = R.get_action(o)\n",
    "    o,r,d,_ = env.step(a)\n",
    "    ep_ret += r # compute return \n",
    "    ep_len += 1\n",
    "blue_health,red_health = env.blue_health,env.red_health\n",
    "\n",
    "# Other infos\n",
    "blue_height = env.manager._blue.state[0]\n",
    "red_height = env.manager._red.state[0]"
   ]
  },
  {
   "cell_type": "code",
   "execution_count": 18,
   "metadata": {},
   "outputs": [
    {
     "name": "stdout",
     "output_type": "stream",
     "text": [
      "Health blue:[1.00] red:[0.00] Height blue:[2348.05] red:[1619.01] ep_len:[2662]\n"
     ]
    }
   ],
   "source": [
    "print (\"Health blue:[%.2f] red:[%.2f] Height blue:[%.2f] red:[%.2f] ep_len:[%d]\"%\n",
    "       (blue_health,red_health,blue_height,red_height,ep_len))"
   ]
  },
  {
   "cell_type": "code",
   "execution_count": null,
   "metadata": {},
   "outputs": [],
   "source": []
  }
 ],
 "metadata": {
  "kernelspec": {
   "display_name": "Python 3",
   "language": "python",
   "name": "python3"
  },
  "language_info": {
   "codemirror_mode": {
    "name": "ipython",
    "version": 3
   },
   "file_extension": ".py",
   "mimetype": "text/x-python",
   "name": "python",
   "nbconvert_exporter": "python",
   "pygments_lexer": "ipython3",
   "version": "3.6.9"
  }
 },
 "nbformat": 4,
 "nbformat_minor": 4
}
