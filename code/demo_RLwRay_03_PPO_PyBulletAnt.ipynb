{
 "cells": [
  {
   "cell_type": "markdown",
   "metadata": {},
   "source": [
    "# Synchronous PPO with PyBullet Ant"
   ]
  },
  {
   "cell_type": "code",
   "execution_count": 1,
   "metadata": {},
   "outputs": [
    {
     "name": "stdout",
     "output_type": "stream",
     "text": [
      "Packaged loaded. TF version is [1.14.0].\n"
     ]
    }
   ],
   "source": [
    "import datetime,gym,os,pybullet_envs,time,os,psutil,ray\n",
    "import numpy as np\n",
    "import tensorflow as tf\n",
    "from util import gpu_sess,suppress_tf_warning\n",
    "from ppo import PPOBuffer,create_ppo_model,create_ppo_graph,update_ppo,\\\n",
    "    save_ppo_model,restore_ppo_model\n",
    "np.set_printoptions(precision=2)\n",
    "suppress_tf_warning() # suppress warning \n",
    "gym.logger.set_level(40) # gym logger \n",
    "print (\"Packaged loaded. TF version is [%s].\"%(tf.__version__))"
   ]
  },
  {
   "cell_type": "markdown",
   "metadata": {},
   "source": [
    "### Rollout Worker"
   ]
  },
  {
   "cell_type": "code",
   "execution_count": 2,
   "metadata": {},
   "outputs": [],
   "source": [
    "def get_env():\n",
    "    import pybullet_envs,gym\n",
    "    gym.logger.set_level(40) # gym logger \n",
    "    return gym.make('AntBulletEnv-v0')\n",
    "\n",
    "def get_eval_env():\n",
    "    import pybullet_envs,gym\n",
    "    gym.logger.set_level(40) # gym logger\n",
    "    eval_env = gym.make('AntBulletEnv-v0')\n",
    "    _ = eval_env.render(mode='human') # enable rendering\n",
    "    _ = eval_env.reset()\n",
    "    for _ in range(3): # dummy run for proper rendering \n",
    "        a = eval_env.action_space.sample()\n",
    "        o,r,d,_ = eval_env.step(a)\n",
    "        time.sleep(0.01)\n",
    "    return eval_env"
   ]
  },
  {
   "cell_type": "code",
   "execution_count": 3,
   "metadata": {},
   "outputs": [],
   "source": [
    "# Model\n",
    "hdims = [256,256]\n",
    "\n",
    "# Graph\n",
    "clip_ratio = 0.2\n",
    "pi_lr = 3e-4\n",
    "vf_lr = 1e-3\n",
    "epsilon = 1e-2\n",
    "\n",
    "# Buffer\n",
    "steps_per_epoch = 5000\n",
    "gamma = 0.99\n",
    "lam = 0.95\n",
    "\n",
    "# Update\n",
    "train_pi_iters = 100\n",
    "train_v_iters = 100\n",
    "target_kl = 0.01\n",
    "epochs = 1000\n",
    "max_ep_len = 1000\n",
    "\n",
    "# Worker \n",
    "n_cpu = n_workers = 15\n",
    "total_steps,evaluate_every,print_every = 200,10,5\n",
    "ep_len_rollout = 5000\n",
    "batch_size,update_count = 4096,ep_len_rollout\n",
    "buffer_size_long,buffer_size_short = 1e6,1e5\n"
   ]
  },
  {
   "cell_type": "code",
   "execution_count": 4,
   "metadata": {},
   "outputs": [],
   "source": [
    "class RolloutWorkerClass(object):\n",
    "    \"\"\"\n",
    "    Worker without RAY (for update purposes)\n",
    "    \"\"\"\n",
    "    def __init__(self,seed=1):\n",
    "        self.seed = seed\n",
    "        # Each worker should maintain its own environment\n",
    "        import pybullet_envs,gym\n",
    "        from util import suppress_tf_warning\n",
    "        suppress_tf_warning() # suppress TF warnings\n",
    "        gym.logger.set_level(40) # gym logger \n",
    "        self.env = get_env()\n",
    "        odim,adim = self.env.observation_space.shape[0],self.env.action_space.shape[0]\n",
    "        self.odim = odim\n",
    "        self.adim = adim\n",
    "        # Initialize PPO\n",
    "        self.model,self.sess = create_ppo_model(env=self.env,hdims=hdims)\n",
    "        self.graph = create_ppo_graph(self.model,\n",
    "                                      clip_ratio=clip_ratio,pi_lr=pi_lr,vf_lr=vf_lr,epsilon=epsilon)\n",
    "        # Initialize model \n",
    "        tf.set_random_seed(self.seed)\n",
    "        np.random.seed(self.seed)\n",
    "        self.sess.run(tf.global_variables_initializer())\n",
    "        \n",
    "        # Flag to initialize assign operations for 'set_weights()'\n",
    "        self.FIRST_SET_FLAG = True\n",
    "        \n",
    "    def get_action(self,o,deterministic=False):\n",
    "        act_op = self.model['mu'] if deterministic else self.model['pi']\n",
    "        return self.sess.run(act_op, feed_dict={self.model['o_ph']:o.reshape(1,-1)})[0]\n",
    "    \n",
    "    def get_weights(self):\n",
    "        \"\"\"\n",
    "        Get weights\n",
    "        \"\"\"\n",
    "        weight_vals = self.sess.run(self.model['pi_vars']+self.model['v_vars'])\n",
    "        return weight_vals\n",
    "    \n",
    "    def set_weights(self,weight_vals):\n",
    "        \"\"\"\n",
    "        Set weights without memory leakage\n",
    "        \"\"\"\n",
    "        if self.FIRST_SET_FLAG:\n",
    "            self.FIRST_SET_FLAG = False\n",
    "            self.assign_placeholders = []\n",
    "            self.assign_ops = []\n",
    "            for w_idx,weight_tf_var in enumerate(self.model['pi_vars']+self.model['v_vars']):\n",
    "                a = weight_tf_var\n",
    "                assign_placeholder = tf.placeholder(a.dtype, shape=a.get_shape())\n",
    "                assign_op = a.assign(assign_placeholder)\n",
    "                self.assign_placeholders.append(assign_placeholder)\n",
    "                self.assign_ops.append(assign_op)\n",
    "        for w_idx,weight_tf_var in enumerate(self.model['pi_vars']+self.model['v_vars']):\n",
    "            self.sess.run(self.assign_ops[w_idx],\n",
    "                          {self.assign_placeholders[w_idx]:weight_vals[w_idx]})    \n",
    "    \n",
    "@ray.remote\n",
    "class RayRolloutWorkerClass(object):\n",
    "    \"\"\"\n",
    "    Rollout Worker with RAY\n",
    "    \"\"\"\n",
    "    def __init__(self,worker_id=0,ep_len_rollout=1000):\n",
    "        # Parse\n",
    "        self.worker_id = worker_id\n",
    "        self.ep_len_rollout = ep_len_rollout\n",
    "        # Each worker should maintain its own environment\n",
    "        import pybullet_envs,gym\n",
    "        from util import suppress_tf_warning\n",
    "        suppress_tf_warning() # suppress TF warnings\n",
    "        gym.logger.set_level(40) # gym logger \n",
    "        self.env = get_env()\n",
    "        odim,adim = self.env.observation_space.shape[0],self.env.action_space.shape[0]\n",
    "        self.odim = odim\n",
    "        self.adim = adim\n",
    "        # Replay buffers to pass\n",
    "        self.o_buffer = np.zeros((self.ep_len_rollout,self.odim))\n",
    "        self.a_buffer = np.zeros((self.ep_len_rollout,self.adim))\n",
    "        self.r_buffer = np.zeros((self.ep_len_rollout))\n",
    "        self.v_t_buffer = np.zeros((self.ep_len_rollout))\n",
    "        self.logp_t_buffer = np.zeros((self.ep_len_rollout))\n",
    "        # Create PPO model\n",
    "        self.model,self.sess = create_ppo_model(env=self.env,hdims=hdims)\n",
    "        # Initialize model \n",
    "        self.sess.run(tf.global_variables_initializer())\n",
    "        # Buffer\n",
    "        self.buf = PPOBuffer(odim=self.odim,adim=self.adim,\n",
    "                             size=ep_len_rollout,gamma=gamma,lam=lam)\n",
    "        \n",
    "        # Flag to initialize assign operations for 'set_weights()'\n",
    "        self.FIRST_SET_FLAG = True\n",
    "        \n",
    "        # Flag to initialize rollout\n",
    "        self.FIRST_ROLLOUT_FLAG = True\n",
    "        \n",
    "    def get_action(self,o,deterministic=False):\n",
    "        act_op = self.model['mu'] if deterministic else self.model['pi']\n",
    "        return self.sess.run(act_op, feed_dict={self.model['o_ph']:o.reshape(1,-1)})[0]\n",
    "    \n",
    "    def set_weights(self,weight_vals):\n",
    "        \"\"\"\n",
    "        Set weights without memory leakage\n",
    "        \"\"\"\n",
    "        if self.FIRST_SET_FLAG:\n",
    "            self.FIRST_SET_FLAG = False\n",
    "            self.assign_placeholders = []\n",
    "            self.assign_ops = []\n",
    "            for w_idx,weight_tf_var in enumerate(self.model['pi_vars']+self.model['v_vars']):\n",
    "                a = weight_tf_var\n",
    "                assign_placeholder = tf.placeholder(a.dtype, shape=a.get_shape())\n",
    "                assign_op = a.assign(assign_placeholder)\n",
    "                self.assign_placeholders.append(assign_placeholder)\n",
    "                self.assign_ops.append(assign_op)\n",
    "        for w_idx,weight_tf_var in enumerate(self.model['pi_vars']+self.model['v_vars']):\n",
    "            self.sess.run(self.assign_ops[w_idx],\n",
    "                          {self.assign_placeholders[w_idx]:weight_vals[w_idx]})    \n",
    "        \n",
    "    def rollout(self):\n",
    "        \"\"\"\n",
    "        Rollout\n",
    "        \"\"\"\n",
    "        if self.FIRST_ROLLOUT_FLAG:\n",
    "            self.FIRST_ROLLOUT_FLAG = False\n",
    "            self.o = self.env.reset() # reset environment\n",
    "        # Loop\n",
    "        for t in range(ep_len_rollout):\n",
    "            a,v_t,logp_t = self.sess.run(\n",
    "                self.model['get_action_ops'],feed_dict={self.model['o_ph']:self.o.reshape(1,-1)})\n",
    "            o2, r, d, _ = self.env.step(a[0])\n",
    "            # save and log\n",
    "            self.buf.store(self.o,a,r,v_t,logp_t)\n",
    "            # Update obs (critical!)\n",
    "            self.o = o2\n",
    "            if d:\n",
    "                self.buf.finish_path(last_val=0.0)\n",
    "                self.o = self.env.reset() # reset when done \n",
    "        \n",
    "        last_val = self.sess.run(self.model['v'],\n",
    "                                 feed_dict={self.model['o_ph']:self.o.reshape(1,-1)})\n",
    "        self.buf.finish_path(last_val)\n",
    "        return self.buf.get()"
   ]
  },
  {
   "cell_type": "code",
   "execution_count": null,
   "metadata": {},
   "outputs": [],
   "source": []
  },
  {
   "cell_type": "markdown",
   "metadata": {},
   "source": [
    "### Initialize PyBullet Ant Environment"
   ]
  },
  {
   "cell_type": "code",
   "execution_count": 5,
   "metadata": {},
   "outputs": [
    {
     "name": "stdout",
     "output_type": "stream",
     "text": [
      "Environment Ready. odim:[28] adim:[8].\n"
     ]
    }
   ],
   "source": [
    "eval_env = get_eval_env()\n",
    "adim,odim = eval_env.action_space.shape[0],eval_env.observation_space.shape[0]\n",
    "print (\"Environment Ready. odim:[%d] adim:[%d].\"%(odim,adim))"
   ]
  },
  {
   "cell_type": "code",
   "execution_count": null,
   "metadata": {},
   "outputs": [],
   "source": []
  },
  {
   "cell_type": "markdown",
   "metadata": {},
   "source": [
    "### Initialize Workers"
   ]
  },
  {
   "cell_type": "code",
   "execution_count": 6,
   "metadata": {},
   "outputs": [
    {
     "name": "stderr",
     "output_type": "stream",
     "text": [
      "2020-07-03 02:05:12,100\tWARNING services.py:586 -- setpgrp failed, processes may not be cleaned up properly: [Errno 1] Operation not permitted.\n",
      "2020-07-03 02:05:12,103\tINFO resource_spec.py:212 -- Starting Ray with 4.98 GiB memory available for workers and up to 10.0 GiB for objects. You can adjust these settings with ray.init(memory=<bytes>, object_store_memory=<bytes>).\n",
      "2020-07-03 02:05:12,497\tINFO services.py:1078 -- View the Ray dashboard at \u001b[1m\u001b[32mlocalhost:8266\u001b[39m\u001b[22m\n",
      "2020-07-03 02:05:12,504\tWARNING services.py:1403 -- WARNING: The object store is using /tmp instead of /dev/shm because /dev/shm has only 5891682304 bytes available. This may slow down performance! You may be able to free up space by deleting files in /dev/shm or terminating any running plasma_store_server processes. If you are inside a Docker container, you may need to pass an argument with the flag '--shm-size' to 'docker run'.\n"
     ]
    },
    {
     "name": "stdout",
     "output_type": "stream",
     "text": [
      "RAY initialized with [15] cpus and [15] workers.\n"
     ]
    }
   ],
   "source": [
    "ray.init(num_cpus=n_cpu,\n",
    "         memory = 5*1024*1024*1024,\n",
    "         object_store_memory = 10*1024*1024*1024,\n",
    "         driver_object_store_memory = 1*1024*1024*1024)\n",
    "tf.reset_default_graph()\n",
    "R = RolloutWorkerClass(seed=0)\n",
    "workers = [RayRolloutWorkerClass.remote(worker_id=i,ep_len_rollout=ep_len_rollout) \n",
    "           for i in range(n_workers)]\n",
    "print (\"RAY initialized with [%d] cpus and [%d] workers.\"%\n",
    "       (n_cpu,n_workers))"
   ]
  },
  {
   "cell_type": "code",
   "execution_count": 7,
   "metadata": {
    "scrolled": true
   },
   "outputs": [],
   "source": [
    "time.sleep(1)"
   ]
  },
  {
   "cell_type": "markdown",
   "metadata": {},
   "source": [
    "### Loop"
   ]
  },
  {
   "cell_type": "code",
   "execution_count": 8,
   "metadata": {
    "scrolled": true
   },
   "outputs": [
    {
     "name": "stdout",
     "output_type": "stream",
     "text": [
      "[1/200] rollout:[11.6]s pi_iter:[99/100] update:[1.4]s kl:[0.0027] target_kl:[0.0100].\n",
      "   pi_loss:[-0.0012], entropy:[7.3469]\n",
      "[Eval. start] step:[1/200][0.0%] #step:[0.0e+00] time:[00:00:13] ram:[73.2%].\n",
      "[Evaluate] ep_ret:[7.7558] ep_len:[20]\n",
      "[../data/net/ppo_ant/model.npz] saved.\n",
      "[5/200] rollout:[9.7]s pi_iter:[99/100] update:[1.2]s kl:[0.0041] target_kl:[0.0100].\n",
      "   pi_loss:[0.0133], entropy:[7.3838]\n",
      "[10/200] rollout:[9.8]s pi_iter:[99/100] update:[1.2]s kl:[0.0033] target_kl:[0.0100].\n",
      "   pi_loss:[-0.0459], entropy:[7.2147]\n",
      "[Eval. start] step:[10/200][4.5%] #step:[0.0e+00] time:[00:01:51] ram:[73.3%].\n",
      "[Evaluate] ep_ret:[629.2115] ep_len:[1000]\n",
      "[../data/net/ppo_ant/model.npz] saved.\n",
      "[15/200] rollout:[9.6]s pi_iter:[99/100] update:[1.2]s kl:[0.0060] target_kl:[0.0100].\n",
      "   pi_loss:[0.0202], entropy:[7.0745]\n",
      "[20/200] rollout:[9.5]s pi_iter:[99/100] update:[1.2]s kl:[0.0066] target_kl:[0.0100].\n",
      "   pi_loss:[0.0085], entropy:[6.8644]\n",
      "[Eval. start] step:[20/200][9.5%] #step:[0.0e+00] time:[00:03:42] ram:[73.3%].\n",
      "[Evaluate] ep_ret:[800.7855] ep_len:[1000]\n",
      "[../data/net/ppo_ant/model.npz] saved.\n",
      "[25/200] rollout:[9.4]s pi_iter:[99/100] update:[1.2]s kl:[0.0035] target_kl:[0.0100].\n",
      "   pi_loss:[-0.0172], entropy:[6.6649]\n",
      "[30/200] rollout:[9.4]s pi_iter:[99/100] update:[1.1]s kl:[0.0032] target_kl:[0.0100].\n",
      "   pi_loss:[0.0138], entropy:[6.3548]\n",
      "[Eval. start] step:[30/200][14.5%] #step:[0.0e+00] time:[00:05:31] ram:[73.3%].\n",
      "[Evaluate] ep_ret:[812.6050] ep_len:[1000]\n",
      "[../data/net/ppo_ant/model.npz] saved.\n",
      "[35/200] rollout:[9.4]s pi_iter:[99/100] update:[1.2]s kl:[0.0050] target_kl:[0.0100].\n",
      "   pi_loss:[0.0189], entropy:[6.2940]\n",
      "[40/200] rollout:[9.3]s pi_iter:[99/100] update:[1.1]s kl:[0.0044] target_kl:[0.0100].\n",
      "   pi_loss:[-0.0192], entropy:[6.0869]\n",
      "[Eval. start] step:[40/200][19.5%] #step:[0.0e+00] time:[00:07:19] ram:[73.4%].\n",
      "[Evaluate] ep_ret:[895.9582] ep_len:[1000]\n",
      "[../data/net/ppo_ant/model.npz] saved.\n",
      "[45/200] rollout:[9.4]s pi_iter:[99/100] update:[1.3]s kl:[0.0054] target_kl:[0.0100].\n",
      "   pi_loss:[-0.0282], entropy:[5.9174]\n",
      "[50/200] rollout:[9.4]s pi_iter:[99/100] update:[1.2]s kl:[0.0060] target_kl:[0.0100].\n",
      "   pi_loss:[0.0016], entropy:[5.7587]\n",
      "[Eval. start] step:[50/200][24.5%] #step:[0.0e+00] time:[00:09:08] ram:[73.3%].\n",
      "[Evaluate] ep_ret:[953.3967] ep_len:[1000]\n",
      "[../data/net/ppo_ant/model.npz] saved.\n",
      "[55/200] rollout:[9.3]s pi_iter:[99/100] update:[1.2]s kl:[0.0059] target_kl:[0.0100].\n",
      "   pi_loss:[-0.0031], entropy:[5.6556]\n",
      "[60/200] rollout:[9.3]s pi_iter:[99/100] update:[1.2]s kl:[0.0012] target_kl:[0.0100].\n",
      "   pi_loss:[-0.0022], entropy:[5.4395]\n",
      "[Eval. start] step:[60/200][29.5%] #step:[0.0e+00] time:[00:10:55] ram:[73.4%].\n",
      "[Evaluate] ep_ret:[961.7393] ep_len:[1000]\n",
      "[../data/net/ppo_ant/model.npz] saved.\n",
      "[65/200] rollout:[9.3]s pi_iter:[99/100] update:[1.2]s kl:[0.0082] target_kl:[0.0100].\n",
      "   pi_loss:[-0.0305], entropy:[5.3064]\n",
      "[70/200] rollout:[9.2]s pi_iter:[99/100] update:[1.2]s kl:[0.0079] target_kl:[0.0100].\n",
      "   pi_loss:[-0.0053], entropy:[5.1632]\n",
      "[Eval. start] step:[70/200][34.5%] #step:[0.0e+00] time:[00:12:43] ram:[73.4%].\n",
      "[Evaluate] ep_ret:[1156.3381] ep_len:[1000]\n",
      "[../data/net/ppo_ant/model.npz] saved.\n",
      "[75/200] rollout:[9.3]s pi_iter:[99/100] update:[1.3]s kl:[0.0075] target_kl:[0.0100].\n",
      "   pi_loss:[0.0253], entropy:[5.0097]\n",
      "[80/200] rollout:[9.2]s pi_iter:[99/100] update:[1.2]s kl:[0.0058] target_kl:[0.0100].\n",
      "   pi_loss:[-0.0205], entropy:[4.8322]\n",
      "[Eval. start] step:[80/200][39.5%] #step:[0.0e+00] time:[00:14:30] ram:[73.5%].\n",
      "[Evaluate] ep_ret:[1018.1052] ep_len:[1000]\n",
      "[../data/net/ppo_ant/model.npz] saved.\n",
      "[85/200] rollout:[9.2]s pi_iter:[99/100] update:[1.2]s kl:[0.0055] target_kl:[0.0100].\n",
      "   pi_loss:[-0.0310], entropy:[4.6253]\n",
      "[90/200] rollout:[9.2]s pi_iter:[99/100] update:[1.2]s kl:[0.0052] target_kl:[0.0100].\n",
      "   pi_loss:[-0.0093], entropy:[4.4659]\n",
      "[Eval. start] step:[90/200][44.5%] #step:[0.0e+00] time:[00:16:17] ram:[73.5%].\n",
      "[Evaluate] ep_ret:[1268.5775] ep_len:[1000]\n",
      "[../data/net/ppo_ant/model.npz] saved.\n",
      "[95/200] rollout:[9.3]s pi_iter:[99/100] update:[1.2]s kl:[0.0034] target_kl:[0.0100].\n",
      "   pi_loss:[-0.0080], entropy:[4.3132]\n",
      "[100/200] rollout:[9.2]s pi_iter:[99/100] update:[1.2]s kl:[0.0066] target_kl:[0.0100].\n",
      "   pi_loss:[-0.0240], entropy:[4.1608]\n",
      "[Eval. start] step:[100/200][49.5%] #step:[0.0e+00] time:[00:18:04] ram:[73.5%].\n",
      "[Evaluate] ep_ret:[1671.0272] ep_len:[1000]\n",
      "[../data/net/ppo_ant/model.npz] saved.\n",
      "[105/200] rollout:[9.2]s pi_iter:[99/100] update:[1.2]s kl:[0.0052] target_kl:[0.0100].\n",
      "   pi_loss:[-0.0227], entropy:[4.1100]\n",
      "[110/200] rollout:[9.1]s pi_iter:[99/100] update:[1.1]s kl:[0.0058] target_kl:[0.0100].\n",
      "   pi_loss:[-0.0079], entropy:[3.9556]\n",
      "[Eval. start] step:[110/200][54.5%] #step:[0.0e+00] time:[00:19:50] ram:[73.4%].\n",
      "[Evaluate] ep_ret:[1600.7073] ep_len:[1000]\n",
      "[../data/net/ppo_ant/model.npz] saved.\n",
      "[115/200] rollout:[9.2]s pi_iter:[99/100] update:[1.3]s kl:[0.0061] target_kl:[0.0100].\n",
      "   pi_loss:[-0.0117], entropy:[3.8277]\n",
      "[120/200] rollout:[9.2]s pi_iter:[99/100] update:[1.2]s kl:[0.0048] target_kl:[0.0100].\n",
      "   pi_loss:[0.0131], entropy:[3.6872]\n",
      "[Eval. start] step:[120/200][59.5%] #step:[0.0e+00] time:[00:21:36] ram:[73.5%].\n",
      "[Evaluate] ep_ret:[1744.7102] ep_len:[1000]\n",
      "[../data/net/ppo_ant/model.npz] saved.\n",
      "[125/200] rollout:[9.2]s pi_iter:[99/100] update:[1.2]s kl:[0.0076] target_kl:[0.0100].\n",
      "   pi_loss:[-0.0055], entropy:[3.6062]\n",
      "[130/200] rollout:[9.2]s pi_iter:[99/100] update:[1.3]s kl:[0.0056] target_kl:[0.0100].\n",
      "   pi_loss:[-0.0132], entropy:[3.4718]\n",
      "[Eval. start] step:[130/200][64.5%] #step:[0.0e+00] time:[00:23:23] ram:[73.5%].\n",
      "[Evaluate] ep_ret:[1727.3441] ep_len:[1000]\n",
      "[../data/net/ppo_ant/model.npz] saved.\n",
      "[135/200] rollout:[9.1]s pi_iter:[99/100] update:[1.2]s kl:[0.0065] target_kl:[0.0100].\n",
      "   pi_loss:[-0.0336], entropy:[3.4383]\n",
      "[140/200] rollout:[9.4]s pi_iter:[99/100] update:[1.1]s kl:[0.0110] target_kl:[0.0100].\n",
      "   pi_loss:[0.0289], entropy:[3.3168]\n",
      "[Eval. start] step:[140/200][69.5%] #step:[0.0e+00] time:[00:25:09] ram:[73.5%].\n",
      "[Evaluate] ep_ret:[1867.3480] ep_len:[1000]\n",
      "[../data/net/ppo_ant/model.npz] saved.\n",
      "[145/200] rollout:[9.2]s pi_iter:[99/100] update:[1.3]s kl:[0.0092] target_kl:[0.0100].\n",
      "   pi_loss:[-0.0043], entropy:[3.1669]\n",
      "[150/200] rollout:[9.1]s pi_iter:[99/100] update:[1.2]s kl:[0.0086] target_kl:[0.0100].\n",
      "   pi_loss:[-0.0101], entropy:[3.0315]\n",
      "[Eval. start] step:[150/200][74.5%] #step:[0.0e+00] time:[00:26:55] ram:[73.5%].\n",
      "[Evaluate] ep_ret:[1935.2512] ep_len:[1000]\n",
      "[../data/net/ppo_ant/model.npz] saved.\n",
      "[155/200] rollout:[9.2]s pi_iter:[99/100] update:[1.2]s kl:[0.0073] target_kl:[0.0100].\n",
      "   pi_loss:[-0.0165], entropy:[2.9510]\n",
      "[160/200] rollout:[9.2]s pi_iter:[99/100] update:[1.3]s kl:[0.0075] target_kl:[0.0100].\n",
      "   pi_loss:[-0.0131], entropy:[2.8230]\n",
      "[Eval. start] step:[160/200][79.5%] #step:[0.0e+00] time:[00:28:41] ram:[73.5%].\n",
      "[Evaluate] ep_ret:[1973.2199] ep_len:[1000]\n",
      "[../data/net/ppo_ant/model.npz] saved.\n",
      "[165/200] rollout:[9.2]s pi_iter:[99/100] update:[1.4]s kl:[0.0098] target_kl:[0.0100].\n",
      "   pi_loss:[-0.0117], entropy:[2.8181]\n",
      "[170/200] rollout:[9.2]s pi_iter:[99/100] update:[1.2]s kl:[0.0066] target_kl:[0.0100].\n",
      "   pi_loss:[-0.0018], entropy:[2.7003]\n",
      "[Eval. start] step:[170/200][84.5%] #step:[0.0e+00] time:[00:30:28] ram:[73.5%].\n",
      "[Evaluate] ep_ret:[2082.6721] ep_len:[1000]\n",
      "[../data/net/ppo_ant/model.npz] saved.\n",
      "[175/200] rollout:[9.2]s pi_iter:[99/100] update:[1.1]s kl:[0.0091] target_kl:[0.0100].\n",
      "   pi_loss:[-0.0047], entropy:[2.6627]\n",
      "[180/200] rollout:[9.1]s pi_iter:[99/100] update:[1.2]s kl:[0.0074] target_kl:[0.0100].\n",
      "   pi_loss:[0.0196], entropy:[2.5295]\n",
      "[Eval. start] step:[180/200][89.5%] #step:[0.0e+00] time:[00:32:14] ram:[73.6%].\n",
      "[Evaluate] ep_ret:[2052.0925] ep_len:[1000]\n",
      "[../data/net/ppo_ant/model.npz] saved.\n",
      "[185/200] rollout:[9.2]s pi_iter:[99/100] update:[1.1]s kl:[0.0056] target_kl:[0.0100].\n",
      "   pi_loss:[-0.0054], entropy:[2.3703]\n",
      "[190/200] rollout:[9.1]s pi_iter:[99/100] update:[1.3]s kl:[0.0089] target_kl:[0.0100].\n",
      "   pi_loss:[-0.0051], entropy:[2.3434]\n",
      "[Eval. start] step:[190/200][94.5%] #step:[0.0e+00] time:[00:34:00] ram:[73.5%].\n",
      "[Evaluate] ep_ret:[2125.4913] ep_len:[1000]\n",
      "[../data/net/ppo_ant/model.npz] saved.\n",
      "[195/200] rollout:[9.1]s pi_iter:[99/100] update:[1.2]s kl:[0.0020] target_kl:[0.0100].\n",
      "   pi_loss:[-0.0106], entropy:[2.2614]\n"
     ]
    },
    {
     "name": "stdout",
     "output_type": "stream",
     "text": [
      "[200/200] rollout:[9.1]s pi_iter:[99/100] update:[1.3]s kl:[0.0089] target_kl:[0.0100].\n",
      "   pi_loss:[0.0061], entropy:[2.1510]\n",
      "[Eval. start] step:[200/200][99.5%] #step:[0.0e+00] time:[00:35:46] ram:[73.6%].\n",
      "[Evaluate] ep_ret:[2125.3947] ep_len:[1000]\n",
      "[../data/net/ppo_ant/model.npz] saved.\n",
      "Done.\n"
     ]
    }
   ],
   "source": [
    "start_time = time.time()\n",
    "n_env_step = 0 # number of environment steps\n",
    "for t in range(int(total_steps)):\n",
    "    esec = time.time()-start_time\n",
    "    \n",
    "    # 1. Synchronize worker weights\n",
    "    weights = R.get_weights()\n",
    "    set_weights_list = [worker.set_weights.remote(weights) for worker in workers] \n",
    "    \n",
    "    # 2. Make rollout and accumulate to Buffers\n",
    "    t_start = time.time()\n",
    "    ops = [worker.rollout.remote() for worker in workers]\n",
    "    rollout_vals = ray.get(ops)\n",
    "    sec_rollout = time.time() - t_start\n",
    "    \n",
    "    # 3. Update\n",
    "    t_start = time.time() # tic\n",
    "    \"\"\" \n",
    "    # Old update routine with batch learning \n",
    "    # Get stats before update\n",
    "    feeds_list = []\n",
    "    for rollout_val in rollout_vals:\n",
    "        feeds = {k:v for k,v in zip(R.model['all_phs'],rollout_val)}\n",
    "        feeds_list.append(feeds)\n",
    "        pi_l_old, v_l_old, ent = R.sess.run(\n",
    "            [R.graph['pi_loss'],R.graph['v_loss'],R.graph['approx_ent']],feed_dict=feeds)\n",
    "    # Update the central agent \n",
    "    for _ in range(train_pi_iters):\n",
    "        for r_idx,rollout_val in enumerate(rollout_vals):\n",
    "            feeds = feeds_list[r_idx]\n",
    "            _, kl = R.sess.run([R.graph['train_pi'],R.graph['approx_kl']],feed_dict=feeds)\n",
    "            if kl > 1.5 * target_kl:\n",
    "                print (\"kl(%.3f) is higher than 1.5x(%.3f)\"%(kl,target_kl))\n",
    "                break\n",
    "    for _ in range(train_v_iters):\n",
    "        for r_idx,rollout_val in enumerate(rollout_vals):\n",
    "            feeds = feeds_list[r_idx]\n",
    "            R.sess.run(R.graph['train_v'],feed_dict=feeds)\n",
    "    # Get stats after update\n",
    "    for r_idx,rollout_val in enumerate(rollout_vals):\n",
    "        feeds = feeds_list[r_idx]\n",
    "        pi_l_new,v_l_new,kl,cf = R.sess.run(\n",
    "            [R.graph['pi_loss'],R.graph['v_loss'],R.graph['approx_kl'],R.graph['clipfrac']],\n",
    "            feed_dict=feeds)\n",
    "    \"\"\" \n",
    "    # Mini-batch type of update\n",
    "    for r_idx,rval in enumerate(rollout_vals):\n",
    "        obs_buf,act_buf,adv_buf,ret_buf,logp_buf = \\\n",
    "            rval[0],rval[1],rval[2],rval[3],rval[4]\n",
    "        if r_idx == 0:\n",
    "            obs_bufs,act_bufs,adv_bufs,ret_bufs,logp_bufs = \\\n",
    "                obs_buf,act_buf,adv_buf,ret_buf,logp_buf\n",
    "        else:\n",
    "            obs_bufs = np.concatenate((obs_bufs,obs_buf),axis=0)\n",
    "            act_bufs = np.concatenate((act_bufs,act_buf),axis=0)\n",
    "            adv_bufs = np.concatenate((adv_bufs,adv_buf),axis=0)\n",
    "            ret_bufs = np.concatenate((ret_bufs,ret_buf),axis=0)\n",
    "            logp_bufs = np.concatenate((logp_bufs,logp_buf),axis=0)\n",
    "    n_val_total = obs_bufs.shape[0]\n",
    "    for pi_iter in range(train_pi_iters):\n",
    "        rand_idx = np.random.permutation(n_val_total)[:batch_size]\n",
    "        buf_batches = [obs_bufs[rand_idx],act_bufs[rand_idx],adv_bufs[rand_idx],\n",
    "                       ret_bufs[rand_idx],logp_bufs[rand_idx]]\n",
    "        feeds = {k:v for k,v in zip(R.model['all_phs'],buf_batches)}\n",
    "        _,kl,pi_loss,ent = R.sess.run([R.graph['train_pi'],R.graph['approx_kl'],\n",
    "                               R.graph['pi_loss'],R.graph['approx_ent']],\n",
    "                           feed_dict=feeds)        \n",
    "        if kl > 1.5 * target_kl:\n",
    "            # print (\"  pi_iter:[%d] kl(%.3f) is higher than 1.5x(%.3f)\"%(pi_iter,kl,target_kl))\n",
    "            break\n",
    "    for _ in range(train_v_iters):\n",
    "        rand_idx = np.random.permutation(n_val_total)[:batch_size]\n",
    "        buf_batches = [obs_bufs[rand_idx],act_bufs[rand_idx],adv_bufs[rand_idx],\n",
    "                       ret_bufs[rand_idx],logp_bufs[rand_idx]]\n",
    "        feeds = {k:v for k,v in zip(R.model['all_phs'],buf_batches)}\n",
    "        R.sess.run(R.graph['train_v'],feed_dict=feeds)\n",
    "    sec_update = time.time() - t_start # toc\n",
    "    \n",
    "    # Print\n",
    "    if (t == 0) or (((t+1)%print_every) == 0): \n",
    "        print (\"[%d/%d] rollout:[%.1f]s pi_iter:[%d/%d] update:[%.1f]s kl:[%.4f] target_kl:[%.4f].\"%\n",
    "               (t+1,total_steps,sec_rollout,pi_iter,train_pi_iters,sec_update,kl,target_kl))\n",
    "        print (\"   pi_loss:[%.4f], entropy:[%.4f]\"%\n",
    "               (pi_loss,ent))\n",
    "        \n",
    "    # Evaluate\n",
    "    if (t==0) or (((t+1)%evaluate_every) == 0):\n",
    "        ram_percent = psutil.virtual_memory().percent # memory usage\n",
    "        print (\"[Eval. start] step:[%d/%d][%.1f%%] #step:[%.1e] time:[%s] ram:[%.1f%%].\"%\n",
    "               (t+1,total_steps,t/total_steps*100,\n",
    "                n_env_step,\n",
    "                time.strftime(\"%H:%M:%S\", time.gmtime(time.time()-start_time)),\n",
    "                ram_percent)\n",
    "              )\n",
    "        o,d,ep_ret,ep_len = eval_env.reset(),False,0,0\n",
    "        _ = eval_env.render(mode='human') \n",
    "        while not(d or (ep_len == max_ep_len)):\n",
    "            a = R.sess.run(R.model['mu'],feed_dict={R.model['o_ph']:o.reshape(1,-1)})\n",
    "            o,r,d,_ = eval_env.step(a[0])\n",
    "            _ = eval_env.render(mode='human') \n",
    "            ep_ret += r # compute return \n",
    "            ep_len += 1\n",
    "        print (\"[Evaluate] ep_ret:[%.4f] ep_len:[%d]\"%(ep_ret,ep_len))\n",
    "        \n",
    "        # Save \n",
    "        npz_path = '../data/net/ppo_ant/model.npz'\n",
    "        save_ppo_model(npz_path,R,VERBOSE=False)\n",
    "\n",
    "    \n",
    "print (\"Done.\")"
   ]
  },
  {
   "cell_type": "code",
   "execution_count": null,
   "metadata": {},
   "outputs": [],
   "source": []
  },
  {
   "cell_type": "markdown",
   "metadata": {},
   "source": [
    "### Close"
   ]
  },
  {
   "cell_type": "code",
   "execution_count": 9,
   "metadata": {},
   "outputs": [],
   "source": [
    "eval_env.close()"
   ]
  },
  {
   "cell_type": "code",
   "execution_count": 10,
   "metadata": {},
   "outputs": [],
   "source": [
    "ray.shutdown()"
   ]
  },
  {
   "cell_type": "code",
   "execution_count": null,
   "metadata": {},
   "outputs": [],
   "source": []
  },
  {
   "cell_type": "markdown",
   "metadata": {},
   "source": [
    "### Re-init"
   ]
  },
  {
   "cell_type": "code",
   "execution_count": 11,
   "metadata": {},
   "outputs": [],
   "source": [
    "R.sess.run(tf.global_variables_initializer())"
   ]
  },
  {
   "cell_type": "markdown",
   "metadata": {},
   "source": [
    "### Restore"
   ]
  },
  {
   "cell_type": "code",
   "execution_count": 12,
   "metadata": {},
   "outputs": [
    {
     "name": "stdout",
     "output_type": "stream",
     "text": [
      "[../data/net/ppo_ant/model.npz] loaded.\n"
     ]
    }
   ],
   "source": [
    "npz_path = '../data/net/ppo_ant/model.npz'\n",
    "restore_ppo_model(npz_path,R,VERBOSE=False)"
   ]
  },
  {
   "cell_type": "markdown",
   "metadata": {},
   "source": [
    "### Evaluate"
   ]
  },
  {
   "cell_type": "code",
   "execution_count": 13,
   "metadata": {},
   "outputs": [
    {
     "name": "stdout",
     "output_type": "stream",
     "text": [
      "[Evaluate] ep_ret:[2108.9871] ep_len:[1000]\n"
     ]
    }
   ],
   "source": [
    "eval_env = get_eval_env()\n",
    "o,d,ep_ret,ep_len = eval_env.reset(),False,0,0\n",
    "_ = eval_env.render(mode='human') \n",
    "while not(d or (ep_len == max_ep_len)):\n",
    "    a = R.sess.run(R.model['mu'],feed_dict={R.model['o_ph']:o.reshape(1,-1)})\n",
    "    o,r,d,_ = eval_env.step(a[0])\n",
    "    _ = eval_env.render(mode='human') \n",
    "    ep_ret += r # compute return \n",
    "    ep_len += 1\n",
    "print (\"[Evaluate] ep_ret:[%.4f] ep_len:[%d]\"%(ep_ret,ep_len))\n",
    "eval_env.close()"
   ]
  },
  {
   "cell_type": "code",
   "execution_count": null,
   "metadata": {},
   "outputs": [],
   "source": []
  }
 ],
 "metadata": {
  "kernelspec": {
   "display_name": "Python 3",
   "language": "python",
   "name": "python3"
  },
  "language_info": {
   "codemirror_mode": {
    "name": "ipython",
    "version": 3
   },
   "file_extension": ".py",
   "mimetype": "text/x-python",
   "name": "python",
   "nbconvert_exporter": "python",
   "pygments_lexer": "ipython3",
   "version": "3.6.8"
  }
 },
 "nbformat": 4,
 "nbformat_minor": 4
}
