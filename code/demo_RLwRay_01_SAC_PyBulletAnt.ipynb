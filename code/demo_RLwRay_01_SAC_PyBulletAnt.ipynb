{
 "cells": [
  {
   "cell_type": "markdown",
   "metadata": {},
   "source": [
    "# Synchronous SAC with PyBullet Ant"
   ]
  },
  {
   "cell_type": "code",
   "execution_count": 1,
   "metadata": {},
   "outputs": [
    {
     "name": "stdout",
     "output_type": "stream",
     "text": [
      "Packaged loaded. TF version is [1.15.0].\n"
     ]
    }
   ],
   "source": [
    "import datetime,gym,os,pybullet_envs,time,os,psutil,ray\n",
    "import numpy as np\n",
    "import tensorflow as tf\n",
    "from util import gpu_sess,suppress_tf_warning\n",
    "from sac import ReplayBuffer,create_sac_model,create_sac_graph,\\\n",
    "    save_sac_model_and_buffers,restore_sac_model_and_buffers\n",
    "np.set_printoptions(precision=2)\n",
    "suppress_tf_warning() # suppress warning \n",
    "gym.logger.set_level(40) # gym logger \n",
    "print (\"Packaged loaded. TF version is [%s].\"%(tf.__version__))"
   ]
  },
  {
   "cell_type": "markdown",
   "metadata": {},
   "source": [
    "### Rollout Worker"
   ]
  },
  {
   "cell_type": "code",
   "execution_count": 2,
   "metadata": {},
   "outputs": [],
   "source": [
    "RENDER_ON_EVAL = False"
   ]
  },
  {
   "cell_type": "code",
   "execution_count": 3,
   "metadata": {},
   "outputs": [],
   "source": [
    "def get_env():\n",
    "    import pybullet_envs,gym\n",
    "    gym.logger.set_level(40) # gym logger \n",
    "    return gym.make('AntBulletEnv-v0')\n",
    "\n",
    "def get_eval_env():\n",
    "    import pybullet_envs,gym\n",
    "    gym.logger.set_level(40) # gym logger\n",
    "    eval_env = gym.make('AntBulletEnv-v0')\n",
    "    if RENDER_ON_EVAL:\n",
    "        _ = eval_env.render(mode='human') # enable rendering\n",
    "    _ = eval_env.reset()\n",
    "    for _ in range(3): # dummy run for proper rendering \n",
    "        a = eval_env.action_space.sample()\n",
    "        o,r,d,_ = eval_env.step(a)\n",
    "        time.sleep(0.01)\n",
    "    return eval_env"
   ]
  },
  {
   "cell_type": "code",
   "execution_count": 4,
   "metadata": {},
   "outputs": [
    {
     "name": "stdout",
     "output_type": "stream",
     "text": [
      "Rollout worker classes (with and without RAY) ready.\n"
     ]
    }
   ],
   "source": [
    "class RolloutWorkerClass(object):\n",
    "    \"\"\"\n",
    "    Worker without RAY (for update purposes)\n",
    "    \"\"\"\n",
    "    def __init__(self,lr=1e-3,gamma=0.99,alpha_q=0.1,alpha_pi=0.1,polyak=0.995,seed=1):\n",
    "        self.seed = seed\n",
    "        # Each worker should maintain its own environment\n",
    "        # import pybullet_envs,gym\n",
    "        from util import suppress_tf_warning\n",
    "        suppress_tf_warning() # suppress TF warnings\n",
    "        # gym.logger.set_level(40) # gym logger \n",
    "        # self.env = gym.make('AntBulletEnv-v0')\n",
    "        self.env = get_env()\n",
    "        odim,adim = self.env.observation_space.shape[0],self.env.action_space.shape[0]\n",
    "        self.odim = odim\n",
    "        self.adim = adim\n",
    "        \n",
    "        # Create SAC model and computational graph \n",
    "        self.model,self.sess = create_sac_model(odim=self.odim,adim=self.adim)\n",
    "        self.step_ops,self.target_init = \\\n",
    "            create_sac_graph(self.model,lr=lr,gamma=gamma,alpha_q=alpha_q,alpha_pi=alpha_pi,polyak=polyak)\n",
    "        \n",
    "        # Initialize model \n",
    "        tf.set_random_seed(self.seed)\n",
    "        np.random.seed(self.seed)\n",
    "        self.sess.run(tf.global_variables_initializer())\n",
    "        self.sess.run(self.target_init)\n",
    "        \n",
    "        # Flag to initialize assign operations for 'set_weights()'\n",
    "        self.FIRST_SET_FLAG = True\n",
    "    \n",
    "    def get_action(self,o,deterministic=False):\n",
    "        act_op = self.model['mu'] if deterministic else self.model['pi']\n",
    "        return self.sess.run(act_op, feed_dict={self.model['o_ph']:o.reshape(1,-1)})[0]\n",
    "\n",
    "    def get_weights(self):\n",
    "        \"\"\"\n",
    "        Get weights\n",
    "        \"\"\"\n",
    "        weight_vals = self.sess.run(self.model['main_vars']+self.model['target_vars'])\n",
    "        return weight_vals\n",
    "    \n",
    "    def set_weights(self,weight_vals):\n",
    "        \"\"\"\n",
    "        Set weights without memory leakage\n",
    "        \"\"\"\n",
    "        if self.FIRST_SET_FLAG:\n",
    "            self.FIRST_SET_FLAG = False\n",
    "            self.assign_placeholders = []\n",
    "            self.assign_ops = []\n",
    "            for w_idx,weight_tf_var in enumerate(self.model['main_vars']+self.model['target_vars']):\n",
    "                a = weight_tf_var\n",
    "                assign_placeholder = tf.placeholder(a.dtype, shape=a.get_shape())\n",
    "                assign_op = a.assign(assign_placeholder)\n",
    "                self.assign_placeholders.append(assign_placeholder)\n",
    "                self.assign_ops.append(assign_op)\n",
    "        for w_idx,weight_tf_var in enumerate(self.model['main_vars']+self.model['target_vars']):\n",
    "            self.sess.run(self.assign_ops[w_idx],\n",
    "                          {self.assign_placeholders[w_idx]:weight_vals[w_idx]})\n",
    "            \n",
    "@ray.remote\n",
    "class RayRolloutWorkerClass(object):\n",
    "    \"\"\"\n",
    "    Rollout Worker with RAY\n",
    "    \"\"\"\n",
    "    def __init__(self,worker_id=0,ep_len_rollout=1000):\n",
    "        # Parse\n",
    "        self.worker_id = worker_id\n",
    "        self.ep_len_rollout = ep_len_rollout\n",
    "        # Each worker should maintain its own environment\n",
    "        # import pybullet_envs,gym\n",
    "        from util import suppress_tf_warning\n",
    "        suppress_tf_warning() # suppress TF warnings\n",
    "        # gym.logger.set_level(40) # gym logger \n",
    "        # self.env = gym.make('AntBulletEnv-v0')\n",
    "        self.env = get_env()\n",
    "        odim,adim = self.env.observation_space.shape[0],self.env.action_space.shape[0]\n",
    "        self.odim = odim\n",
    "        self.adim = adim\n",
    "        # Replay buffers to pass\n",
    "        self.o_buffer = np.zeros((self.ep_len_rollout,self.odim))\n",
    "        self.a_buffer = np.zeros((self.ep_len_rollout,self.adim))\n",
    "        self.r_buffer = np.zeros((self.ep_len_rollout))\n",
    "        self.o2_buffer = np.zeros((self.ep_len_rollout,self.odim))\n",
    "        self.d_buffer = np.zeros((self.ep_len_rollout))\n",
    "        # Create SAC model\n",
    "        self.model,self.sess = create_sac_model(odim=self.odim,adim=self.adim)\n",
    "        self.sess.run(tf.global_variables_initializer())\n",
    "        print (\"Ray Worker [%d] Ready.\"%(self.worker_id))\n",
    "        \n",
    "        # Flag to initialize assign operations for 'set_weights()'\n",
    "        self.FIRST_SET_FLAG = True\n",
    "        \n",
    "        # Flag to initialize rollout\n",
    "        self.FIRST_ROLLOUT_FLAG = True\n",
    "        \n",
    "    def get_action(self,o,deterministic=False):\n",
    "        act_op = self.model['mu'] if deterministic else self.model['pi']\n",
    "        return self.sess.run(act_op, feed_dict={self.model['o_ph']:o.reshape(1,-1)})[0]\n",
    "    \n",
    "    def set_weights(self,weight_vals):\n",
    "        \"\"\"\n",
    "        Set weights without memory leakage\n",
    "        \"\"\"\n",
    "        if self.FIRST_SET_FLAG:\n",
    "            self.FIRST_SET_FLAG = False\n",
    "            self.assign_placeholders = []\n",
    "            self.assign_ops = []\n",
    "            for w_idx,weight_tf_var in enumerate(self.model['main_vars']+self.model['target_vars']):\n",
    "                a = weight_tf_var\n",
    "                assign_placeholder = tf.placeholder(a.dtype, shape=a.get_shape())\n",
    "                assign_op = a.assign(assign_placeholder)\n",
    "                self.assign_placeholders.append(assign_placeholder)\n",
    "                self.assign_ops.append(assign_op)\n",
    "        for w_idx,weight_tf_var in enumerate(self.model['main_vars']+self.model['target_vars']):\n",
    "            self.sess.run(self.assign_ops[w_idx],\n",
    "                          {self.assign_placeholders[w_idx]:weight_vals[w_idx]})\n",
    "            \n",
    "    def rollout(self):\n",
    "        \"\"\"\n",
    "        Rollout\n",
    "        \"\"\"\n",
    "        if self.FIRST_ROLLOUT_FLAG:\n",
    "            self.FIRST_ROLLOUT_FLAG = False\n",
    "            self.o = self.env.reset() # reset environment\n",
    "        # Loop\n",
    "        for t in range(self.ep_len_rollout):\n",
    "            self.a = self.get_action(self.o,deterministic=False) \n",
    "            self.o2,self.r,self.d,_ = self.env.step(self.a)\n",
    "            # Append\n",
    "            self.o_buffer[t,:] = self.o\n",
    "            self.a_buffer[t,:] = self.a\n",
    "            self.r_buffer[t] = self.r\n",
    "            self.o2_buffer[t,:] = self.o2\n",
    "            self.d_buffer[t] = self.d\n",
    "            # Save next state \n",
    "            self.o = self.o2\n",
    "            if self.d: self.o = self.env.reset() # reset when done \n",
    "        return self.o_buffer,self.a_buffer,self.r_buffer,self.o2_buffer,self.d_buffer\n",
    "    \n",
    "print (\"Rollout worker classes (with and without RAY) ready.\")"
   ]
  },
  {
   "cell_type": "markdown",
   "metadata": {},
   "source": [
    "### Initilize PyBullet Ant Environment"
   ]
  },
  {
   "cell_type": "code",
   "execution_count": 5,
   "metadata": {},
   "outputs": [
    {
     "name": "stdout",
     "output_type": "stream",
     "text": [
      "Environment Ready. odim:[28] adim:[8].\n"
     ]
    }
   ],
   "source": [
    "eval_env = get_eval_env()\n",
    "adim,odim = eval_env.action_space.shape[0],eval_env.observation_space.shape[0]\n",
    "print (\"Environment Ready. odim:[%d] adim:[%d].\"%(odim,adim))"
   ]
  },
  {
   "cell_type": "code",
   "execution_count": 6,
   "metadata": {},
   "outputs": [],
   "source": [
    "n_cpu = n_workers = 15\n",
    "total_steps,evaluate_every = 2000,200 # 2000,200\n",
    "ep_len_rollout = 100\n",
    "batch_size,update_count = 128,ep_len_rollout\n",
    "num_eval,max_ep_len_eval = 3,1e3\n",
    "buffer_size_long,buffer_size_short = 1e6,1e5"
   ]
  },
  {
   "cell_type": "markdown",
   "metadata": {},
   "source": [
    "### Initialize Workers"
   ]
  },
  {
   "cell_type": "code",
   "execution_count": 7,
   "metadata": {},
   "outputs": [
    {
     "name": "stderr",
     "output_type": "stream",
     "text": [
      "2020-07-12 03:55:27,697\tINFO resource_spec.py:212 -- Starting Ray with 4.98 GiB memory available for workers and up to 10.0 GiB for objects. You can adjust these settings with ray.init(memory=<bytes>, object_store_memory=<bytes>).\n",
      "2020-07-12 03:55:27,809\tWARNING services.py:923 -- Redis failed to start, retrying now.\n",
      "2020-07-12 03:55:28,033\tWARNING services.py:923 -- Redis failed to start, retrying now.\n",
      "2020-07-12 03:55:28,246\tINFO services.py:1165 -- View the Ray dashboard at \u001b[1m\u001b[32mlocalhost:8267\u001b[39m\u001b[22m\n"
     ]
    },
    {
     "name": "stdout",
     "output_type": "stream",
     "text": [
      "RAY initialized with [15] cpus and [15] workers.\n"
     ]
    }
   ],
   "source": [
    "ray.init(num_cpus=n_cpu,\n",
    "         memory = 5*1024*1024*1024,\n",
    "         object_store_memory = 10*1024*1024*1024,\n",
    "         driver_object_store_memory = 1*1024*1024*1024)\n",
    "tf.reset_default_graph()\n",
    "R = RolloutWorkerClass(lr=1e-3,gamma=0.99,alpha_q=0.0,alpha_pi=0.1,polyak=0.995,seed=0)\n",
    "workers = [RayRolloutWorkerClass.remote(worker_id=i,ep_len_rollout=ep_len_rollout) \n",
    "           for i in range(n_workers)]\n",
    "print (\"RAY initialized with [%d] cpus and [%d] workers.\"%\n",
    "       (n_cpu,n_workers))"
   ]
  },
  {
   "cell_type": "code",
   "execution_count": 8,
   "metadata": {},
   "outputs": [],
   "source": [
    "time.sleep(1)"
   ]
  },
  {
   "cell_type": "markdown",
   "metadata": {},
   "source": [
    "### Replay Buffers"
   ]
  },
  {
   "cell_type": "code",
   "execution_count": 9,
   "metadata": {},
   "outputs": [],
   "source": [
    "replay_buffer_long = ReplayBuffer(odim=odim,adim=adim,size=int(buffer_size_long))\n",
    "replay_buffer_short = ReplayBuffer(odim=odim,adim=adim,size=int(buffer_size_short))"
   ]
  },
  {
   "cell_type": "markdown",
   "metadata": {},
   "source": [
    "### Loop"
   ]
  },
  {
   "cell_type": "code",
   "execution_count": 10,
   "metadata": {
    "scrolled": true
   },
   "outputs": [
    {
     "name": "stdout",
     "output_type": "stream",
     "text": [
      "\u001b[2m\u001b[36m(pid=60926)\u001b[0m Ray Worker [9] Ready.\n",
      "\u001b[2m\u001b[36m(pid=60935)\u001b[0m Ray Worker [14] Ready.\n",
      "\u001b[2m\u001b[36m(pid=60932)\u001b[0m Ray Worker [6] Ready.\n",
      "\u001b[2m\u001b[36m(pid=60937)\u001b[0m Ray Worker [11] Ready.\n",
      "\u001b[2m\u001b[36m(pid=60938)\u001b[0m Ray Worker [8] Ready.\n",
      "\u001b[2m\u001b[36m(pid=60924)\u001b[0m Ray Worker [13] Ready.\n",
      "\u001b[2m\u001b[36m(pid=60936)\u001b[0m Ray Worker [1] Ready.\n",
      "\u001b[2m\u001b[36m(pid=60933)\u001b[0m Ray Worker [5] Ready.\n",
      "\u001b[2m\u001b[36m(pid=60931)\u001b[0m Ray Worker [3] Ready.\n",
      "\u001b[2m\u001b[36m(pid=60934)\u001b[0m Ray Worker [4] Ready.\n",
      "\u001b[2m\u001b[36m(pid=60928)\u001b[0m Ray Worker [12] Ready.\n",
      "\u001b[2m\u001b[36m(pid=60925)\u001b[0m Ray Worker [2] Ready.\n",
      "\u001b[2m\u001b[36m(pid=60927)\u001b[0m Ray Worker [0] Ready.\n",
      "\u001b[2m\u001b[36m(pid=60930)\u001b[0m Ray Worker [10] Ready.\n",
      "\u001b[2m\u001b[36m(pid=60929)\u001b[0m Ray Worker [7] Ready.\n",
      "[Evaluate] step:[1/2000][0.0%] #step:[1.5e+03] time:[00:00:02] ram:[12.7%].\n",
      "[Evaluate] [0/3] ep_ret:[19.1784] ep_len:[41]\n",
      "[Evaluate] [1/3] ep_ret:[240.9671] ep_len:[458]\n",
      "[Evaluate] [2/3] ep_ret:[217.6377] ep_len:[401]\n",
      "[../data/net/sac_ant] created.\n",
      "[../data/net/sac_ant/model_and_buffers.npz] saved.\n",
      "[Evaluate] step:[200/2000][10.0%] #step:[3.0e+05] time:[00:02:37] ram:[12.8%].\n",
      "[Evaluate] [0/3] ep_ret:[574.2446] ep_len:[1000]\n",
      "[Evaluate] [1/3] ep_ret:[616.9151] ep_len:[1000]\n",
      "[Evaluate] [2/3] ep_ret:[591.6797] ep_len:[1000]\n",
      "[../data/net/sac_ant/model_and_buffers.npz] saved.\n",
      "[Evaluate] step:[400/2000][20.0%] #step:[6.0e+05] time:[00:05:19] ram:[12.9%].\n",
      "[Evaluate] [0/3] ep_ret:[666.5314] ep_len:[1000]\n",
      "[Evaluate] [1/3] ep_ret:[522.6494] ep_len:[1000]\n",
      "[Evaluate] [2/3] ep_ret:[461.9818] ep_len:[1000]\n",
      "[../data/net/sac_ant/model_and_buffers.npz] saved.\n",
      "[Evaluate] step:[600/2000][29.9%] #step:[9.0e+05] time:[00:07:56] ram:[13.0%].\n",
      "[Evaluate] [0/3] ep_ret:[837.8794] ep_len:[1000]\n",
      "[Evaluate] [1/3] ep_ret:[1214.1752] ep_len:[1000]\n",
      "[Evaluate] [2/3] ep_ret:[1129.4225] ep_len:[1000]\n",
      "[../data/net/sac_ant/model_and_buffers.npz] saved.\n",
      "[Evaluate] step:[800/2000][40.0%] #step:[1.2e+06] time:[00:10:36] ram:[13.0%].\n",
      "[Evaluate] [0/3] ep_ret:[1172.2577] ep_len:[1000]\n",
      "[Evaluate] [1/3] ep_ret:[1153.8908] ep_len:[1000]\n",
      "[Evaluate] [2/3] ep_ret:[1163.2180] ep_len:[1000]\n",
      "[../data/net/sac_ant/model_and_buffers.npz] saved.\n",
      "[Evaluate] step:[1000/2000][50.0%] #step:[1.5e+06] time:[00:13:13] ram:[13.1%].\n",
      "[Evaluate] [0/3] ep_ret:[1443.9508] ep_len:[1000]\n",
      "[Evaluate] [1/3] ep_ret:[1434.2656] ep_len:[1000]\n",
      "[Evaluate] [2/3] ep_ret:[1532.0487] ep_len:[1000]\n",
      "[../data/net/sac_ant/model_and_buffers.npz] saved.\n",
      "[Evaluate] step:[1200/2000][60.0%] #step:[1.8e+06] time:[00:15:53] ram:[13.1%].\n",
      "[Evaluate] [0/3] ep_ret:[749.2571] ep_len:[1000]\n",
      "[Evaluate] [1/3] ep_ret:[734.6909] ep_len:[1000]\n",
      "[Evaluate] [2/3] ep_ret:[727.9606] ep_len:[1000]\n",
      "[../data/net/sac_ant/model_and_buffers.npz] saved.\n",
      "[Evaluate] step:[1400/2000][70.0%] #step:[2.1e+06] time:[00:18:33] ram:[13.2%].\n",
      "[Evaluate] [0/3] ep_ret:[1743.0586] ep_len:[1000]\n",
      "[Evaluate] [1/3] ep_ret:[1750.1157] ep_len:[1000]\n",
      "[Evaluate] [2/3] ep_ret:[1632.7203] ep_len:[1000]\n",
      "[../data/net/sac_ant/model_and_buffers.npz] saved.\n",
      "[Evaluate] step:[1600/2000][80.0%] #step:[2.4e+06] time:[00:21:12] ram:[13.2%].\n",
      "[Evaluate] [0/3] ep_ret:[2154.8753] ep_len:[1000]\n",
      "[Evaluate] [1/3] ep_ret:[2160.1173] ep_len:[1000]\n",
      "[Evaluate] [2/3] ep_ret:[2264.5276] ep_len:[1000]\n",
      "[../data/net/sac_ant/model_and_buffers.npz] saved.\n",
      "[Evaluate] step:[1800/2000][90.0%] #step:[2.7e+06] time:[00:23:51] ram:[13.2%].\n",
      "[Evaluate] [0/3] ep_ret:[2171.6027] ep_len:[1000]\n",
      "[Evaluate] [1/3] ep_ret:[2210.7306] ep_len:[1000]\n",
      "[Evaluate] [2/3] ep_ret:[2129.3171] ep_len:[1000]\n",
      "[../data/net/sac_ant/model_and_buffers.npz] saved.\n",
      "[Evaluate] step:[2000/2000][100.0%] #step:[3.0e+06] time:[00:26:33] ram:[13.3%].\n",
      "[Evaluate] [0/3] ep_ret:[1697.2260] ep_len:[1000]\n",
      "[Evaluate] [1/3] ep_ret:[2045.5449] ep_len:[1000]\n",
      "[Evaluate] [2/3] ep_ret:[1848.7932] ep_len:[1000]\n",
      "[../data/net/sac_ant/model_and_buffers.npz] saved.\n",
      "Done.\n"
     ]
    }
   ],
   "source": [
    "start_time = time.time()\n",
    "n_env_step = 0 # number of environment steps\n",
    "for t in range(int(total_steps)):\n",
    "    esec = time.time()-start_time\n",
    "    \n",
    "    # Synchronize worker weights\n",
    "    weights = R.get_weights()\n",
    "    set_weights_list = [worker.set_weights.remote(weights) for worker in workers] \n",
    "    \n",
    "    # Make rollout and accumulate to Buffers\n",
    "    ops = [worker.rollout.remote() for worker in workers]\n",
    "    rollout_vals = ray.get(ops)\n",
    "    for rollout_val in rollout_vals:\n",
    "        o_buffer,a_buffer,r_buffer,o2_buffer,d_buffer = rollout_val\n",
    "        for i in range(ep_len_rollout):\n",
    "            o,a,r,o2,d = o_buffer[i,:],a_buffer[i,:],r_buffer[i],o2_buffer[i,:],d_buffer[i]\n",
    "            replay_buffer_long.store(o, a, r, o2, d) \n",
    "            replay_buffer_short.store(o, a, r, o2, d) \n",
    "            n_env_step += 1\n",
    "    \n",
    "    # Update\n",
    "    for _ in range(int(update_count)):\n",
    "        batch = replay_buffer_long.sample_batch(batch_size//2) \n",
    "        batch_short = replay_buffer_short.sample_batch(batch_size//2) \n",
    "        feed_dict = {R.model['o_ph']: np.concatenate((batch['obs1'],batch_short['obs1'])),\n",
    "                     R.model['o2_ph']: np.concatenate((batch['obs2'],batch_short['obs2'])),\n",
    "                     R.model['a_ph']: np.concatenate((batch['acts'],batch_short['acts'])),\n",
    "                     R.model['r_ph']: np.concatenate((batch['rews'],batch_short['rews'])),\n",
    "                     R.model['d_ph']: np.concatenate((batch['done'],batch_short['done']))\n",
    "                    }\n",
    "        outs = R.sess.run(R.step_ops, feed_dict)\n",
    "    \n",
    "    # Evaluate\n",
    "    if (t == 0) or (((t+1)%evaluate_every) == 0) or (t == (total_steps-1)): \n",
    "        ram_percent = psutil.virtual_memory().percent # memory usage\n",
    "        print (\"[Evaluate] step:[%d/%d][%.1f%%] #step:[%.1e] time:[%s] ram:[%.1f%%].\"%\n",
    "               (t+1,total_steps,t/total_steps*100,\n",
    "                n_env_step,\n",
    "                time.strftime(\"%H:%M:%S\", time.gmtime(time.time()-start_time)),\n",
    "                ram_percent)\n",
    "              )\n",
    "        for eval_idx in range(num_eval): \n",
    "            o,d,ep_ret,ep_len = eval_env.reset(),False,0,0\n",
    "            if RENDER_ON_EVAL:\n",
    "                _ = eval_env.render(mode='human') \n",
    "            while not(d or (ep_len == max_ep_len_eval)):\n",
    "                a = R.get_action(o,deterministic=True)\n",
    "                o,r,d,_ = eval_env.step(a)\n",
    "                if RENDER_ON_EVAL:\n",
    "                    _ = eval_env.render(mode='human') \n",
    "                ep_ret += r # compute return \n",
    "                ep_len += 1\n",
    "            print (\"[Evaluate] [%d/%d] ep_ret:[%.4f] ep_len:[%d]\"\n",
    "                %(eval_idx,num_eval,ep_ret,ep_len)) \n",
    "            \n",
    "        # Save current SAC model and replay buffers \n",
    "        npz_path = '../data/net/sac_ant/model_and_buffers.npz'\n",
    "        save_sac_model_and_buffers(npz_path,R,replay_buffer_long,replay_buffer_short,\n",
    "                                   VERBOSE=False,IGNORE_BUFFERS=True)\n",
    "    \n",
    "print (\"Done.\")"
   ]
  },
  {
   "cell_type": "code",
   "execution_count": null,
   "metadata": {},
   "outputs": [],
   "source": []
  },
  {
   "cell_type": "markdown",
   "metadata": {},
   "source": [
    "### Close"
   ]
  },
  {
   "cell_type": "code",
   "execution_count": 11,
   "metadata": {},
   "outputs": [],
   "source": [
    "eval_env.close()"
   ]
  },
  {
   "cell_type": "code",
   "execution_count": 12,
   "metadata": {},
   "outputs": [],
   "source": [
    "ray.shutdown()"
   ]
  },
  {
   "cell_type": "code",
   "execution_count": null,
   "metadata": {},
   "outputs": [],
   "source": []
  },
  {
   "cell_type": "markdown",
   "metadata": {},
   "source": [
    "### Save model weights and replay buffers"
   ]
  },
  {
   "cell_type": "code",
   "execution_count": 13,
   "metadata": {},
   "outputs": [
    {
     "name": "stdout",
     "output_type": "stream",
     "text": [
      "[../data/net/sac_ant/model_and_buffers_final.npz] saved.\n"
     ]
    }
   ],
   "source": [
    "# Path to save the npz file \n",
    "npz_path = '../data/net/sac_ant/model_and_buffers_final.npz'\n",
    "save_sac_model_and_buffers(npz_path,R,replay_buffer_long,replay_buffer_short,\n",
    "                           VERBOSE=False,IGNORE_BUFFERS=True)"
   ]
  },
  {
   "cell_type": "code",
   "execution_count": null,
   "metadata": {},
   "outputs": [],
   "source": []
  },
  {
   "cell_type": "markdown",
   "metadata": {},
   "source": [
    "### Reset the worker"
   ]
  },
  {
   "cell_type": "code",
   "execution_count": 14,
   "metadata": {},
   "outputs": [],
   "source": [
    "R.sess.run(tf.global_variables_initializer())"
   ]
  },
  {
   "cell_type": "code",
   "execution_count": null,
   "metadata": {},
   "outputs": [],
   "source": []
  },
  {
   "cell_type": "markdown",
   "metadata": {},
   "source": [
    "### Load and assign model weights"
   ]
  },
  {
   "cell_type": "code",
   "execution_count": 15,
   "metadata": {},
   "outputs": [
    {
     "name": "stdout",
     "output_type": "stream",
     "text": [
      "[../data/net/sac_ant/model_and_buffers_final.npz] loaded.\n"
     ]
    }
   ],
   "source": [
    "# Load npz\n",
    "npz_path = '../data/net/sac_ant/model_and_buffers_final.npz'\n",
    "restore_sac_model_and_buffers(npz_path,R,replay_buffer_long,replay_buffer_short,VERBOSE=True)"
   ]
  },
  {
   "cell_type": "code",
   "execution_count": null,
   "metadata": {},
   "outputs": [],
   "source": []
  },
  {
   "cell_type": "markdown",
   "metadata": {},
   "source": [
    "### Test-Run"
   ]
  },
  {
   "cell_type": "code",
   "execution_count": 16,
   "metadata": {},
   "outputs": [
    {
     "name": "stdout",
     "output_type": "stream",
     "text": [
      "[Evaluate] ep_ret:[2072.6534] ep_len:[1000]\n"
     ]
    }
   ],
   "source": [
    "eval_env = get_eval_env()\n",
    "o,d,ep_ret,ep_len = eval_env.reset(),False,0,0\n",
    "if RENDER_ON_EVAL:\n",
    "    _ = eval_env.render(mode='human') \n",
    "while not(d or (ep_len == max_ep_len_eval)):\n",
    "    a = R.get_action(o,deterministic=True)\n",
    "    o,r,d,_ = eval_env.step(a)\n",
    "    if RENDER_ON_EVAL:\n",
    "        _ = eval_env.render(mode='human') \n",
    "    ep_ret += r # compute return \n",
    "    ep_len += 1\n",
    "print (\"[Evaluate] ep_ret:[%.4f] ep_len:[%d]\"\n",
    "    %(ep_ret,ep_len))\n",
    "eval_env.close() # close env"
   ]
  },
  {
   "cell_type": "code",
   "execution_count": null,
   "metadata": {},
   "outputs": [],
   "source": []
  }
 ],
 "metadata": {
  "kernelspec": {
   "display_name": "Python 3",
   "language": "python",
   "name": "python3"
  },
  "language_info": {
   "codemirror_mode": {
    "name": "ipython",
    "version": 3
   },
   "file_extension": ".py",
   "mimetype": "text/x-python",
   "name": "python",
   "nbconvert_exporter": "python",
   "pygments_lexer": "ipython3",
   "version": "3.6.9"
  }
 },
 "nbformat": 4,
 "nbformat_minor": 4
}
